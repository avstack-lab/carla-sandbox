{
 "cells": [
  {
   "cell_type": "code",
   "execution_count": null,
   "id": "bea1f286-505f-46c2-9d4f-a2578bd4b1fd",
   "metadata": {},
   "outputs": [],
   "source": [
    "import avapi\n",
    "import avstack\n",
    "import pandas\n",
    "\n",
    "import os\n",
    "from tqdm import tqdm"
   ]
  },
  {
   "cell_type": "markdown",
   "id": "22072a09-7444-4a1c-a7b0-91b5cc3a5e20",
   "metadata": {},
   "source": [
    "## Compute Results"
   ]
  },
  {
   "cell_type": "code",
   "execution_count": null,
   "id": "107a1d50-21b5-457f-bb25-99a05723d26b",
   "metadata": {},
   "outputs": [],
   "source": [
    "models = ['FasterRCNN', 'PointPillars']\n",
    "train_apps = ['Ego', 'Infrastructure']\n",
    "test_apps = ['Ego', 'Infrastructure']\n",
    "\n",
    "data_dir_ego = '/data/spencer/CARLA/multi-sensor-v1/'\n",
    "data_dir_infra = '/data/spencer/CARLA/multi-agent-v1/'\n",
    "\n",
    "SM_ego = avapi.carla.CarlaScenesManager(data_dir_ego)\n",
    "SM_infra = avapi.carla.CarlaScenesManager(data_dir_infra)"
   ]
  },
  {
   "cell_type": "code",
   "execution_count": null,
   "id": "4e5ea725-1f77-4eed-afee-d9829ddbb36d",
   "metadata": {},
   "outputs": [],
   "source": [
    "dets[0].score"
   ]
  },
  {
   "cell_type": "code",
   "execution_count": null,
   "id": "25595f34-bc8e-4d4d-815f-7d3f36f9e1ac",
   "metadata": {},
   "outputs": [],
   "source": [
    "out_dir = 'application_results'\n",
    "n_scenes = 1\n",
    "n_frames = 10\n",
    "for model in models:\n",
    "    # -- model-specific information\n",
    "    if model.lower() == 'fasterrcnn':\n",
    "        data_type = 'camera'\n",
    "        metric = '2D_IoU'\n",
    "        MMModel = avstack.modules.perception.object2dfv.MMDetObjectDetector2D\n",
    "    elif model.lower() == 'pointpillars':\n",
    "        data_type = 'lidar'\n",
    "        MMModel = avstack.modules.perception.object3d.MMDetObjectDetector3D\n",
    "        metric = '3D_IoU'\n",
    "    else:\n",
    "        raise NotImplementedError(model.lower())\n",
    "\n",
    "    # -- loops\n",
    "    for train_app in applications:\n",
    "        if train_app.lower() == 'ego':\n",
    "            dataset = 'carla'\n",
    "        else:\n",
    "            dataset = 'carla-infrastructure'\n",
    "        M = MMModel(model=model.lower(), dataset=dataset)\n",
    "        for test_app in applications:\n",
    "            out_folder = os.path.join(out_dir, train_app, test_app)\n",
    "            gt_dir = os.path.join(out_folder, 'ground-truth')\n",
    "            det_dir = os.path.join(out_folder, 'detection-results')\n",
    "            os.makedirs(gt_dir, exist_ok=True)\n",
    "            os.makedirs(det_dir, exist_ok=True)\n",
    "            \n",
    "            ground_truth = {'boxes':[], 'labels':[], 'scores':[]}\n",
    "            result_dict = {'boxes':[], 'labels':[], 'scores':[]}\n",
    "            if test_app.lower() == 'ego':\n",
    "                SM = SM_ego\n",
    "            else:\n",
    "                SM = SM_infra\n",
    "\n",
    "            # -- loop frames\n",
    "            for i_scene, scene in enumerate(SM.splits_scenes['val'][:n_scenes]):\n",
    "                SD = SM.get_scene_dataset_by_name(scene)\n",
    "                for frame in tqdm(SD.frames[:n_frames]):\n",
    "                    # -- run perception\n",
    "                    try:\n",
    "                        if data_type == 'camera':\n",
    "                            sensor = 'main_camera'\n",
    "                            data = SD.get_image(frame=frame, sensor=sensor)\n",
    "                        else:\n",
    "                            sensor = 'main_lidar'\n",
    "                            data = SD.get_lidar(frame=frame, sensor=sensor)\n",
    "                        objs = SD.get_objects(frame=frame, sensor=sensor)\n",
    "                    except FileNotFoundError, KeyError:\n",
    "                        continue\n",
    "                    dets = M(data=data)\n",
    "\n",
    "                    # -- store outcomes\n",
    "                    img_name = f'image_{i_scene:03d}-{frame:03d}.txt'\n",
    "                    gt_lines = [[obj.obj_type, *map(str, list(obj.box.project_to_2d_bbox(data.calibration).box2d))] for obj in objs]\n",
    "                    gt_string = '\\n'.join([' '.join(line) for line in gt_lines])\n",
    "                    with open(os.path.join(gt_dir, img_name), 'w') as f:\n",
    "                        f.write(gt_string)\n",
    "                    det_lines = [[det.obj_type, str(det.score), *map(str, det.box.box2d)] for det in dets]\n",
    "                    det_string = '\\n'.join([' '.join(line) for line in det_lines])\n",
    "                    with open(os.path.join(det_dir, img_name), 'w') as f:\n",
    "                        f.write(det_string)"
   ]
  },
  {
   "cell_type": "code",
   "execution_count": null,
   "id": "958e90b0-5049-43a4-a3a7-a7e995d77204",
   "metadata": {},
   "outputs": [],
   "source": [
    "results = {'model':[], 'data_type':[], 'train_app':[], 'test_app':[], 'mAP':[]}\n",
    "\n",
    "# -- calculate results\n",
    "mAP_results = calculate_map_range(ground_truth, result_dict, 0.05, 0.95, 0.05)\n",
    "\n",
    "# -- store results\n",
    "results['model'].append(model)\n",
    "results['data_type'].append(data_type)\n",
    "results['train_app'].append(train_app)\n",
    "results['test_app'].append(test_app)\n",
    "results['mAP'].append(mAP_results"
   ]
  },
  {
   "cell_type": "markdown",
   "id": "2e38b525-3ac7-4245-804f-8a15960e66b1",
   "metadata": {},
   "source": [
    "## Visualize Results"
   ]
  },
  {
   "cell_type": "code",
   "execution_count": null,
   "id": "a26f9a96-0ba4-44b2-ba00-c614dc75de99",
   "metadata": {},
   "outputs": [],
   "source": [
    "df = pandas.DataFrame()"
   ]
  },
  {
   "cell_type": "code",
   "execution_count": null,
   "id": "42459a6b-c836-4c5b-beee-9e643b2b8e4e",
   "metadata": {},
   "outputs": [],
   "source": [
    "subrow_formatter = '\\tworowsubtablecenter{{{}}}{{\\tworowsubtablecenter{{{}}}{{{}}}}}'"
   ]
  }
 ],
 "metadata": {
  "kernelspec": {
   "display_name": "Python 3 (ipykernel)",
   "language": "python",
   "name": "python3"
  },
  "language_info": {
   "codemirror_mode": {
    "name": "ipython",
    "version": 3
   },
   "file_extension": ".py",
   "mimetype": "text/x-python",
   "name": "python",
   "nbconvert_exporter": "python",
   "pygments_lexer": "ipython3",
   "version": "3.8.17"
  }
 },
 "nbformat": 4,
 "nbformat_minor": 5
}
