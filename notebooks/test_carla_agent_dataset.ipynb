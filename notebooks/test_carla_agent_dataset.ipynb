{
 "cells": [
  {
   "cell_type": "code",
   "execution_count": null,
   "id": "f5621a5a-e88e-463a-a6ed-ae6bc205a57f",
   "metadata": {},
   "outputs": [],
   "source": [
    "import avstack\n",
    "import avapi\n",
    "import numpy as np\n",
    "\n",
    "data_dir_agent  = '/data/spencer/CARLA/multi-agent-v1/'\n",
    "CSM_agent = avapi.carla.CarlaScenesManager(data_dir=data_dir_agent)\n",
    "\n",
    "CSM = CSM_agent\n",
    "CDM = CSM.get_scene_dataset_by_name(CSM.splits_scenes['train'][0])"
   ]
  },
  {
   "cell_type": "code",
   "execution_count": null,
   "id": "c1438bfe-a490-40a8-b804-5cbf3aefdfaa",
   "metadata": {},
   "outputs": [],
   "source": [
    "frame = CDM.frames[1]\n",
    "\n",
    "# -- ego sensor data\n",
    "sensor_ego = \"CAM_FRONT\"\n",
    "img_ego = CDM.get_image(frame=frame, sensor=sensor_ego)\n",
    "pc_ego = CDM.get_lidar(frame=frame, sensor=\"LIDAR_TOP\")\n",
    "ego = CDM.get_ego(frame=frame)\n",
    "\n",
    "avapi.visualize.snapshot.show_lidar_on_image(pc_ego, img_ego)\n",
    "avapi.visualize.snapshot.show_lidar_bev_with_boxes(pc_ego, inline=True)"
   ]
  },
  {
   "cell_type": "markdown",
   "id": "31562a9d-70cd-47b1-bda5-f9698a451542",
   "metadata": {},
   "source": [
    "## Visualization"
   ]
  },
  {
   "cell_type": "code",
   "execution_count": null,
   "id": "9d4565b7-5492-44ee-a774-e4a5c61ca630",
   "metadata": {},
   "outputs": [],
   "source": [
    "# CDM = CSM.get_scene_dataset_by_name(CSM.splits_scenes['val'][2])\n",
    "# frame = CDM.frames[78]\n",
    "CDM = CSM.get_scene_dataset_by_name(CSM.splits_scenes['val'][0])\n",
    "frame = CDM.frames[30]\n",
    "\n",
    "# -- ego sensor data\n",
    "sensor_ego = \"CAM_FRONT\"\n",
    "img_ego = CDM.get_image(frame=frame, sensor=sensor_ego)\n",
    "ego = CDM.get_ego(frame=frame)\n",
    "objs_ego = CDM.get_objects(frame=frame, sensor=sensor_ego, max_occ=avstack.environment.objects.Occlusion.PARTIAL)\n",
    "avapi.visualize.snapshot.show_image_with_boxes(img_ego, [], inline=True)\n",
    "                                              \n",
    "\n",
    "# -- infrastructure sensor data\n",
    "for sensor in CDM.sensor_IDs:\n",
    "    if 'cam' in sensor.lower() and 'infra' in sensor.lower():\n",
    "        img_infra = CDM.get_image(frame=frame, sensor=sensor)\n",
    "        pc_infra = CDM.get_lidar(frame=frame, sensor=sensor.replace(\"CAM\", \"LIDAR\"))\n",
    "        objs_infra = CDM.get_objects(frame=frame, sensor=sensor, max_occ=avstack.environment.objects.Occlusion.MOST)\n",
    "        # print([obj.ID for obj in objs_infra])\n",
    "        box_colors = []\n",
    "        for obj in objs_infra:\n",
    "            if obj.ID == ego.ID:\n",
    "                box_colors.append('blue')\n",
    "            else:\n",
    "                box_colors.append('green')\n",
    "\n",
    "        avapi.visualize.snapshot.show_image_with_boxes(img_infra, objs_infra, box_colors=box_colors, inline=True)\n",
    "        # avapi.visualize.snapshot.show_lidar_on_image(pc_infra, img_infra)\n",
    "        # avapi.visualize.snapshot.show_lidar_bev_with_boxes(pc_infra)\n"
   ]
  },
  {
   "cell_type": "markdown",
   "id": "b9bb96b1-10b3-4b0d-bc83-2363d6cb8af4",
   "metadata": {},
   "source": [
    "## Computations"
   ]
  },
  {
   "cell_type": "code",
   "execution_count": null,
   "id": "afd82b0d-ef04-4859-89d3-62824c687052",
   "metadata": {},
   "outputs": [],
   "source": []
  }
 ],
 "metadata": {
  "kernelspec": {
   "display_name": "Python 3 (ipykernel)",
   "language": "python",
   "name": "python3"
  },
  "language_info": {
   "codemirror_mode": {
    "name": "ipython",
    "version": 3
   },
   "file_extension": ".py",
   "mimetype": "text/x-python",
   "name": "python",
   "nbconvert_exporter": "python",
   "pygments_lexer": "ipython3",
   "version": "3.8.17"
  }
 },
 "nbformat": 4,
 "nbformat_minor": 5
}
