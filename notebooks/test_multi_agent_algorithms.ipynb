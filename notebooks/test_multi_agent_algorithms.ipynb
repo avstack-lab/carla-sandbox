{
 "cells": [
  {
   "cell_type": "code",
   "execution_count": null,
   "id": "1fd25ebe-3ce7-437a-9fe3-5bd5a1408279",
   "metadata": {},
   "outputs": [],
   "source": [
    "import avstack\n",
    "import avapi\n",
    "from tqdm import tqdm\n",
    "import os\n",
    "import random\n",
    "import itertools\n",
    "import numpy as np\n",
    "\n",
    "from agents import EgoAgentOnly, EgoDetectionFusion, EgoTrackFusion\n",
    "from networks import NetworkWithLocalPerception, NetworkWithLocalTracking, NetworkWithDistributedTracking"
   ]
  },
  {
   "cell_type": "code",
   "execution_count": null,
   "id": "f0500028-f34e-4f16-a3f1-0053c85034e4",
   "metadata": {},
   "outputs": [],
   "source": [
    "data_dir_ego = '/data/spencer/CARLA/ego-lidar/'\n",
    "data_dir_infra = '/data/spencer/CARLA/multi-agent-v1/'\n",
    "\n",
    "SM_ego = avapi.carla.CarlaScenesManager(data_dir_ego)\n",
    "SM_infra = avapi.carla.CarlaScenesManager(data_dir_infra)"
   ]
  },
  {
   "cell_type": "code",
   "execution_count": null,
   "id": "e58c0cf3-3c11-487b-a0be-6a73a761c5de",
   "metadata": {},
   "outputs": [],
   "source": [
    "perception = {\n",
    "    'ego':{\n",
    "        'camera':avstack.modules.perception.object2dfv.MMDetObjectDetector2D(\n",
    "            model='fasterrcnn', dataset='carla', epoch='latest', threshold=0.5),\n",
    "        'lidar':avstack.modules.perception.object3d.MMDetObjectDetector3D(\n",
    "            model='pointpillars', dataset='carla', epoch='latest', threshold=0.2)\n",
    "    },\n",
    "    'agent':{\n",
    "        'camera':avstack.modules.perception.object2dfv.MMDetObjectDetector2D(\n",
    "            model='fasterrcnn', dataset='carla-infrastructure', epoch='latest', threshold=0.5),\n",
    "        'lidar':avstack.modules.perception.object3d.MMDetObjectDetector3D(\n",
    "            model='pointpillars', dataset='carla-infrastructure', epoch='latest', threshold=0.2)\n",
    "    },\n",
    "    'joint':{\n",
    "        'camera':None,\n",
    "        'lidar':None\n",
    "    }\n",
    "}"
   ]
  },
  {
   "cell_type": "code",
   "execution_count": null,
   "id": "157b16b2-adfd-4f6a-9a29-1f94d62cc99a",
   "metadata": {},
   "outputs": [],
   "source": [
    "def run_ego_with_network(SD, ego, network, agent_names, n_burnin_save=4, n_frames=10, d_thresh=75):    \n",
    "    # Run over scenario\n",
    "    results = []\n",
    "    for idx, frame in enumerate(tqdm(SD.get_frames(sensor='main_lidar')[2:n_frames])):\n",
    "        # -- run network \n",
    "        if network is not None:\n",
    "            agent_data = {agent:SD.get_lidar(frame=frame, sensor=agent).transform_to_ground() for agent in agent_names}\n",
    "            net_out = network(agent_data)\n",
    "        else:\n",
    "            net_out = None\n",
    "    \n",
    "        # -- pass information to ego vehicle\n",
    "        ego_pc = SD.get_lidar(frame=frame, sensor='main_lidar')\n",
    "        ego_out = ego(ego_pc, net_out)\n",
    "        \n",
    "        # -- prep ground truths\n",
    "        objs_care = {}\n",
    "        objs_dontcare = {}\n",
    "        for agent in agent_names + ['main_lidar']:\n",
    "            objects = SD.get_objects(frame=frame, sensor=agent)\n",
    "            for obj in objects:\n",
    "                if (obj.ID not in objs_care) and (obj.ID not in objs_dontcare):\n",
    "                    obj.change_reference(ego_pc.reference, inplace=True)\n",
    "                    pos = obj.position.change_reference(ego_pc.reference, inplace=False)\n",
    "                    if pos.norm() <= d_thresh:\n",
    "                        objs_care[obj.ID] = obj\n",
    "                    else:\n",
    "                        objs_dontcare[obj.ID] = obj\n",
    "                        \n",
    "        # -- store results\n",
    "        if idx >= n_burnin_save:\n",
    "            res = avapi.evaluation.ResultManager(\n",
    "                idx=frame,\n",
    "                detections=[track.box3d for track in ego_out],\n",
    "                truths=[v for k, v in objs_care.items()],\n",
    "                truths_dontcare=[v for k, v in objs_dontcare.items()],\n",
    "                metric='3D_IoU',\n",
    "            )\n",
    "            results.append(res)\n",
    "    return results"
   ]
  },
  {
   "cell_type": "markdown",
   "id": "9cdbbe4f-8e7b-4966-84e7-1b19e3e0a264",
   "metadata": {},
   "source": [
    "### Ego-Only"
   ]
  },
  {
   "cell_type": "code",
   "execution_count": null,
   "id": "d5bc5a25-a358-44ef-aa36-e006bbe9e51b",
   "metadata": {},
   "outputs": [],
   "source": [
    "SD_infra = SM_infra.get_scene_dataset_by_name(SM_infra.splits_scenes['val'][1])"
   ]
  },
  {
   "cell_type": "code",
   "execution_count": null,
   "id": "04c1e445-882a-46e2-8b23-a44b76eabe22",
   "metadata": {},
   "outputs": [],
   "source": [
    "agent_names = [sensor for sensor in SD_infra.sensor_IDs if 'infra' in sensor.lower() and 'lidar' in sensor.lower()]\n",
    "ego_local = EgoAgentOnly(perception['ego']['lidar'])\n",
    "results_local = run_ego_with_network(SD_infra, ego_local, network=None, agent_names=agent_names, n_frames=20)"
   ]
  },
  {
   "cell_type": "code",
   "execution_count": null,
   "id": "94218fe7-2faa-4ae9-8900-82d84b510b5f",
   "metadata": {},
   "outputs": [],
   "source": [
    "idx_view = -10\n",
    "frame_viz = results_local[idx_view].idx\n",
    "results_local[idx_view].visualize(lidar=SD_infra.get_lidar(frame=frame_viz, sensor=\"main_lidar\"))"
   ]
  },
  {
   "cell_type": "markdown",
   "id": "515c5324-e033-45d9-8c29-de98712530a6",
   "metadata": {},
   "source": [
    "### Simple Fusion At Tracking With Detections"
   ]
  },
  {
   "cell_type": "code",
   "execution_count": null,
   "id": "17b7dcfc-3509-4b72-831a-8c735da8a533",
   "metadata": {},
   "outputs": [],
   "source": [
    "ego_fusion_1 = EgoDetectionFusion(perception['ego']['lidar'])\n",
    "agent_names = [sensor for sensor in SD_infra.sensor_IDs if 'infra' in sensor.lower() and 'lidar' in sensor.lower()]\n",
    "perception_1 = {agent:perception['agent']['lidar'] for agent in agent_names}\n",
    "network_percep = NetworkWithLocalPerception(perception_1)\n",
    "results_simple_fusion = run_ego_with_network(SD_infra, ego_fusion_1, network_percep, agent_names, n_frames=20)"
   ]
  },
  {
   "cell_type": "code",
   "execution_count": null,
   "id": "ebf7bf0f-67f7-4b6f-8e71-047788565d39",
   "metadata": {},
   "outputs": [],
   "source": [
    "img = SD_infra.get_image(frame_viz, 'main_camera')\n",
    "img.view()\n",
    "img = SD_infra.get_image(frame_viz-8, 'CAM_INFRASTRUCTURE_003')\n",
    "img.view()"
   ]
  },
  {
   "cell_type": "code",
   "execution_count": null,
   "id": "89becbf8-c4f1-4245-934b-6c3c0c99ec42",
   "metadata": {},
   "outputs": [],
   "source": [
    "idx_view = -10\n",
    "frame_viz = results_local[idx_view].idx\n",
    "results_simple_fusion[idx_view].visualize(lidar=SD_infra.get_lidar(frame=frame_viz, sensor=\"main_lidar\"))"
   ]
  },
  {
   "cell_type": "code",
   "execution_count": null,
   "id": "081a99d5-0416-4d8e-8915-58beb00b100d",
   "metadata": {},
   "outputs": [],
   "source": [
    "\n"
   ]
  },
  {
   "cell_type": "code",
   "execution_count": null,
   "id": "8939cd81-fe81-441e-b08b-40ff6fbb4544",
   "metadata": {},
   "outputs": [],
   "source": []
  },
  {
   "cell_type": "code",
   "execution_count": null,
   "id": "35637011-4d57-4fb9-8557-0b56eb0ce934",
   "metadata": {},
   "outputs": [],
   "source": []
  },
  {
   "cell_type": "code",
   "execution_count": null,
   "id": "133d309d-6fbc-4012-9201-5a6ae5c10e05",
   "metadata": {},
   "outputs": [],
   "source": [
    "ego_local = EgoAgentOnly(perception['ego']['lidar'])\n",
    "results_local = run_ego_with_network(SD, ego_local, network=None, agent_names=[], n_frames=8)"
   ]
  },
  {
   "cell_type": "code",
   "execution_count": null,
   "id": "508beb0a-09c9-4dfe-ab19-a8ceda231863",
   "metadata": {},
   "outputs": [],
   "source": [
    "idx_view = -1\n",
    "frame_viz = results_local[idx_view].idx\n",
    "results_local[idx_view].visualize(lidar=SD.get_lidar(frame=frame_viz, sensor=\"main_lidar\"))"
   ]
  },
  {
   "cell_type": "code",
   "execution_count": null,
   "id": "8703cc21-d978-4d71-92ce-78db7bc883eb",
   "metadata": {},
   "outputs": [],
   "source": []
  },
  {
   "cell_type": "code",
   "execution_count": null,
   "id": "7a0497db-471a-4d78-b609-510a4d9df69a",
   "metadata": {},
   "outputs": [],
   "source": []
  },
  {
   "cell_type": "markdown",
   "id": "ab21d005-3e00-4ba6-ab66-942440424130",
   "metadata": {},
   "source": [
    "### Simple Fusion At Tracking With Tracks"
   ]
  },
  {
   "cell_type": "code",
   "execution_count": null,
   "id": "c6a85fdc-6309-46f1-87d5-f51bc7174753",
   "metadata": {},
   "outputs": [],
   "source": [
    "ego_fusion_2 = FusionAtTracking(perception['ego']['lidar'])\n",
    "agent_names = [sensor for sensor in SD_infra.sensor_IDs if 'infra' in sensor.lower() and 'lidar' in sensor.lower()]\n",
    "perception_1 = {agent:perception['agent']['lidar'] for agent in agent_names}\n",
    "network_tracks = NetworkWithLocalTracking(perception_1)\n",
    "results_track_fusion = run_ego_with_network(SD_infra, ego_fusion_2, network_tracks, agent_names, n_frames=20)"
   ]
  },
  {
   "cell_type": "code",
   "execution_count": null,
   "id": "3444d415-04a7-4716-83a7-63fba2ceb476",
   "metadata": {},
   "outputs": [],
   "source": [
    "idx_view = -1\n",
    "frame_viz = results_track_fusion[idx_view].idx\n",
    "results_track_fusion[idx_view].visualize(lidar=SD_infra.get_lidar(frame=frame_viz, sensor=\"main_lidar\"))"
   ]
  },
  {
   "cell_type": "markdown",
   "id": "fa7c0d7b-c4ae-43c0-a0fc-4e13babfcf9e",
   "metadata": {},
   "source": [
    "### Tracking in a Distributed Network"
   ]
  },
  {
   "cell_type": "code",
   "execution_count": null,
   "id": "5803e1e0-17e9-4230-b2e3-e9722f7fec76",
   "metadata": {},
   "outputs": [],
   "source": [
    "net_dist = NetworkWithDistributedTracking(percep_inf, p_share=0.75)\n",
    "# ego_fuse = EgoDetectionFusion(percep_ego)\n",
    "ego_track = EgoTrackFusion(percep_ego)\n",
    "\n",
    "n_frames = 8\n",
    "results = run_ego_with_network(\n",
    "    SD=SD,\n",
    "    ego=ego_track,\n",
    "    network=net_dist,\n",
    "    agent_names=agent_names,\n",
    "    n_frames=n_frames)"
   ]
  },
  {
   "cell_type": "code",
   "execution_count": null,
   "id": "f9a53d28-8e10-4177-ac0f-085969298793",
   "metadata": {},
   "outputs": [],
   "source": [
    "results"
   ]
  },
  {
   "cell_type": "code",
   "execution_count": null,
   "id": "7e6f6e61-f548-4c6c-bae5-832c22b701d4",
   "metadata": {},
   "outputs": [],
   "source": []
  },
  {
   "cell_type": "code",
   "execution_count": null,
   "id": "e3ea3a17-26c1-4233-aa53-dd528abb4301",
   "metadata": {},
   "outputs": [],
   "source": [
    "idx_view = -1\n",
    "frame_viz = results[idx_view].idx\n",
    "results[idx_view].visualize(lidar=SD.get_lidar(frame=frame_viz, sensor=\"main_lidar\"))"
   ]
  },
  {
   "cell_type": "code",
   "execution_count": null,
   "id": "fca27191-5c9f-43e5-9757-fa21654fe4df",
   "metadata": {},
   "outputs": [],
   "source": []
  },
  {
   "cell_type": "code",
   "execution_count": null,
   "id": "9536f289-035f-40f0-9aab-fda53c8b74cb",
   "metadata": {},
   "outputs": [],
   "source": [
    "results"
   ]
  },
  {
   "cell_type": "code",
   "execution_count": null,
   "id": "136f5dcc-9163-4b2a-a310-50918163355d",
   "metadata": {},
   "outputs": [],
   "source": []
  },
  {
   "cell_type": "markdown",
   "id": "8542adb8-54cc-4f86-8766-34142ce73490",
   "metadata": {},
   "source": [
    "## mAP Experiment"
   ]
  },
  {
   "cell_type": "code",
   "execution_count": null,
   "id": "5194b3f1-b7ae-4b3f-b3e2-89e3aed1380c",
   "metadata": {},
   "outputs": [],
   "source": [
    "results_local_all = []\n",
    "results_fusion_all = []\n",
    "\n",
    "n_scenes = 4\n",
    "n_frames = 15\n",
    "\n",
    "# outer loop is over scenes\n",
    "scenes = SM_infra.splits_scenes['val'][:n_scenes]\n",
    "\n",
    "# middle loop is over network types\n",
    "percep_ego = perception['ego']['lidar']\n",
    "percep_inf = perception['agent']['lidar']\n",
    "networks = [('No\\nCorrelations', NetworkWithLocalPerception(percep_inf)),\n",
    "            ('Minor\\nCorrelations', NetworkWithDistributedTracking(percep_inf, p_share=0.1)),\n",
    "            ('Major\\nCorrelations', NetworkWithDistributedTracking(percep_inf, p_share=0.75))]\n",
    "\n",
    "# inner loop is over ego types\n",
    "egos = [('Local Only', EgoAgentOnly(percep_ego)),\n",
    "        ('Fusion at Tracking', EgoDetectionFusion(percep_ego)),\n",
    "        ('Fusion Post Tracking', EgoTrackFusion(percep_ego))]\n",
    "\n",
    "# --------------------------------------\n",
    "results_all = []\n",
    "print('Running over {} egos'.format(len(egos)))\n",
    "for ego_name, ego in egos:\n",
    "    ego_res = {}\n",
    "    print('Running over {} networks'.format(len(networks)))\n",
    "    for net_name, network in networks:\n",
    "        # inner most loop is over scenes/frames\n",
    "        print('Running over {} scenes'.format(len(scenes)))\n",
    "        ego_res[net_name] = []\n",
    "        for scene in scenes:\n",
    "            network.reset()\n",
    "            ego.reset()\n",
    "            SD = SM_infra.get_scene_dataset_by_name(scene)\n",
    "            agent_names = [sensor for sensor in SD.sensor_IDs if 'infra' in sensor.lower() and 'lidar' in sensor.lower()]\n",
    "            results = run_ego_with_network(\n",
    "                SD=SD,\n",
    "                ego=ego,\n",
    "                network=network,\n",
    "                agent_names=agent_names,\n",
    "                n_frames=n_frames)\n",
    "            ego_res[net_name].extend(results)\n",
    "    results_all.append((ego_name, ego_res))"
   ]
  },
  {
   "cell_type": "code",
   "execution_count": null,
   "id": "853a9481-1659-41c7-87df-a5f095bc9ec1",
   "metadata": {},
   "outputs": [],
   "source": [
    "# Convert results to APs\n",
    "get_ap = avapi.evaluation.metrics.get_ap_from_results\n",
    "aps_all = [(ego_name, {net_name: get_ap(ego_net_res, by_class=False)[0] for net_name, ego_net_res in ego_res.items()}) for ego_name, ego_res in results_all ]\n",
    "fig = avapi.evaluation.metrics.barplot_ap(aps_all, reverse_subbars=True, reverse_bars=False, cmap='Accent', color_squeeze=1.3)\n",
    "\n",
    "out_folder = 'case_study'\n",
    "os.makedirs(out_folder, exist_ok=True)\n",
    "fig.savefig(os.path.join(out_folder, 'map_network_study.pdf'), format='pdf', bbox_inches=\"tight\")"
   ]
  },
  {
   "cell_type": "code",
   "execution_count": null,
   "id": "15ccb770-13a5-4ac1-8bbf-14eaa422825d",
   "metadata": {},
   "outputs": [],
   "source": []
  }
 ],
 "metadata": {
  "kernelspec": {
   "display_name": "Python 3 (ipykernel)",
   "language": "python",
   "name": "python3"
  },
  "language_info": {
   "codemirror_mode": {
    "name": "ipython",
    "version": 3
   },
   "file_extension": ".py",
   "mimetype": "text/x-python",
   "name": "python",
   "nbconvert_exporter": "python",
   "pygments_lexer": "ipython3",
   "version": "3.8.17"
  }
 },
 "nbformat": 4,
 "nbformat_minor": 5
}
