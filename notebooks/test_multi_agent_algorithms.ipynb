{
 "cells": [
  {
   "cell_type": "code",
   "execution_count": null,
   "id": "1fd25ebe-3ce7-437a-9fe3-5bd5a1408279",
   "metadata": {},
   "outputs": [],
   "source": [
    "import avstack\n",
    "import avapi\n",
    "import random"
   ]
  },
  {
   "cell_type": "markdown",
   "id": "298d1bd5-e663-4782-a786-c59fa47b38ea",
   "metadata": {},
   "source": [
    "## Define Multi-Agent Algorithms"
   ]
  },
  {
   "cell_type": "code",
   "execution_count": null,
   "id": "88b43c85-a3de-4f2f-9ab9-7989b6eaa11c",
   "metadata": {},
   "outputs": [],
   "source": [
    "class _AgentModel():\n",
    "    \"\"\"Base class for agent fusion algorithms\"\"\"\n",
    "    def __init__(self, perception, tracking):\n",
    "        self.perception = perception\n",
    "        self.tracking = tracking\n",
    "        \n",
    "    def ingest(self):\n",
    "        raise NotImplementedError\n",
    "\n",
    "\n",
    "class LidarPerceptionAndTracking(_AgentModel):\n",
    "    \"\"\"Only performs ego-based perception and tracking\"\"\"\n",
    "    def __init__(self, perception, *args, **kwargs):\n",
    "        tracking = avstack.modules.tracking.tracker3d.BasicBoxTracker3D()\n",
    "        super().__init__(self, perception, tracking)\n",
    "\n",
    "    def ingest(self, ego_pc, agents_pcs):\n",
    "        tracks_ego = self.tracking(self.perception['ego'](ego_pc))\n",
    "        return tracks_ego\n",
    "\n",
    "\n",
    "class FusionAtTrackingWithDetections(_AgentModel):\n",
    "    \"\"\"Treat detections from other agents as detections\"\"\" \n",
    "    def __init__(self, perception, n_agents, *args, **kwargs):\n",
    "        tracking = avstack.modules.tracking.tracker3d.BasicBoxTracker3D()\n",
    "        super().__init__(self, perception, tracking)\n",
    "\n",
    "    def ingest(self, ego_pc, agents_pcs):\n",
    "        dets_ego = self.perception['ego'](ego_pc)\n",
    "        dets_all = [self.perception['agents'](agents_pcs[i])) for i in range(len(agents_pcs))]\n",
    "        dets_all.append(dets_ego)\n",
    "        for dets in random.shuffle(dets_all):  # shuffle to avoid bias\n",
    "            tracks_out = self.tracking(dets)  # TODO: need to adjust the configuration of the tracker?\n",
    "        return tracks_out\n",
    "\n",
    "\n",
    "class FusionAtTrackingWithTracks(_AgentModel):\n",
    "    \"\"\"Treat tracks from other agents as detections\"\"\" \n",
    "    def __init__(self, perception, n_agents, *args, **kwargs):\n",
    "        tracking = {\n",
    "            'ego':avstack.modules.tracking.tracker3d.BasicBoxTracker3D()\n",
    "            'agents':[avstack.modules.tracking.tracker3d.BasicBoxTracker3D() for _ in range(n_agents)]\n",
    "        }\n",
    "        super().__init__(self, perception, tracking)\n",
    "\n",
    "    def ingest(self, ego_pc, agents_pcs):\n",
    "        dets_ego = self.perception['ego'](ego_pc)\n",
    "        pseudo_dets_all = [self.tracking['agents'][i](self.perception['agents'](agents_pcs[i])) for i in range(len(agents_pcs))]\n",
    "        pseudo_dets_all.append(dets_ego)\n",
    "        for pseudo_dets in random.shuffle(pseudo_dets_all):  # shuffle to avoid bias\n",
    "            tracks_out = self.tracking(pseudo_dets)  # TODO: need to adjust the configuration of the tracker?\n",
    "        return tracks_out\n",
    "\n",
    "\n",
    "class DedicatedFusionLiDAR(_AgentModel):\n",
    "    \"\"\"Performs distributed data fusion on tracks from other agents\"\"\"\n",
    "    def __init__(self, perception, n_agents, *args, **kwargs):\n",
    "        tracking = {\n",
    "            'ego':avstack.modules.tracking.tracker3d.BasicBoxTracker3D()\n",
    "            'agents':[avstack.modules.tracking.tracker3d.BasicBoxTracker3D() for _ in range(n_agents)]\n",
    "        }\n",
    "        super().__init__(self, perception, tracking)\n",
    "\n",
    "    def fusion(self, tracks_ego, tracks_agents):\n",
    "        pass\n",
    "    \n",
    "    def ingest(self, ego_pc, agents_pcs):\n",
    "        tracks_ego = self.tracking['ego'](self.perception['ego'](ego_pc))\n",
    "        tracks_agents = [self.tracking['agents'][i](self.perception['agents'](agents_pcs[i])) for i in range(len(agents_pcs))]\n",
    "        tracks_out = self.fusion(tracks_ego, tracks_agents)"
   ]
  },
  {
   "cell_type": "code",
   "execution_count": null,
   "id": "c2006388-8a70-4c0f-af5d-d6228f9fab8d",
   "metadata": {},
   "outputs": [],
   "source": [
    "# perception always the same\n",
    "perception = {\n",
    "    'ego':avstack.modules.perception.object3d.MMDetObjectDetector3D(model='pointpillars', dataset='carla')\n",
    "    'agents':avstack.modules.perception.object3d.MMDetObjectDetector3D(model='pointpillars', dataset='carla-infrastructure')\n",
    "}"
   ]
  },
  {
   "cell_type": "markdown",
   "id": "c2ce1593-2b6f-45b0-94e4-a59e7c2430f0",
   "metadata": {},
   "source": [
    "## Run Multi-Agent Experiments"
   ]
  },
  {
   "cell_type": "code",
   "execution_count": null,
   "id": "68dcf9ad-3a1f-421d-8537-fbf88cc48dbd",
   "metadata": {},
   "outputs": [],
   "source": []
  }
 ],
 "metadata": {
  "kernelspec": {
   "display_name": "Python 3 (ipykernel)",
   "language": "python",
   "name": "python3"
  },
  "language_info": {
   "codemirror_mode": {
    "name": "ipython",
    "version": 3
   },
   "file_extension": ".py",
   "mimetype": "text/x-python",
   "name": "python",
   "nbconvert_exporter": "python",
   "pygments_lexer": "ipython3",
   "version": "3.8.17"
  }
 },
 "nbformat": 4,
 "nbformat_minor": 5
}
