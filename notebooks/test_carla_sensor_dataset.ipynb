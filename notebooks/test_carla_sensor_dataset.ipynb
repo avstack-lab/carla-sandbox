{
 "cells": [
  {
   "cell_type": "code",
   "execution_count": null,
   "id": "21dd8964-fdca-4070-a39e-0c3bce7773ab",
   "metadata": {},
   "outputs": [],
   "source": [
    "import avstack\n",
    "import avapi\n",
    "\n",
    "data_dir_sensor = '/data/spencer/CARLA/multi-sensor-v1/'\n",
    "# data_dir_agent  = '/data/spencer/CARLA/multi-agent-v1/'\n",
    "\n",
    "CSM_sensor = avapi.carla.CarlaScenesManager(data_dir=data_dir_sensor)\n",
    "# CSM_agent = avapi.carla.CarlaScenesManager(data_dir=data_dir_agent)\n",
    "\n",
    "CSM = CSM_sensor\n",
    "CDM = CSM.get_scene_dataset_by_name(CSM.splits_scenes['val'][2])"
   ]
  },
  {
   "cell_type": "code",
   "execution_count": null,
   "id": "4b0263bf-bc11-4de9-9e4c-d5897a6a6035",
   "metadata": {},
   "outputs": [],
   "source": [
    "def show_image_boxes_frame(frame, sensor):\n",
    "    if 'depth' in sensor.lower():\n",
    "        func = CDM.get_depth_image\n",
    "    elif 'semseg' in sensor.lower():\n",
    "        func = CDM.get_semseg_image\n",
    "    else:\n",
    "        func = CDM.get_image\n",
    "    avapi.visualize.snapshot.show_image_with_boxes(\n",
    "        img=func(frame=frame, sensor=sensor),\n",
    "        boxes=CDM.get_objects(frame=frame, sensor=sensor, max_occ=avstack.environment.objects.Occlusion.MOST),\n",
    "        inline=True\n",
    "    )\n",
    "\n",
    "def show_lidar_boxes(frame, lidar_sensor, camera_sensor):\n",
    "    img = CDM.get_image(frame=frame, sensor=camera_sensor)\n",
    "    pc = CDM.get_lidar(frame=frame, sensor=lidar_sensor)\n",
    "    objs = CDM.get_objects(frame=frame, sensor=lidar_sensor, max_occ=avstack.environment.objects.Occlusion.MOST)\n",
    "    avapi.visualize.snapshot.show_lidar_on_image(pc, img, boxes=objs)\n",
    "    avapi.visualize.snapshot.show_lidar_bev_with_boxes(pc, boxes=objs)"
   ]
  },
  {
   "cell_type": "code",
   "execution_count": null,
   "id": "d06eb2aa-7b85-498e-bb90-0035cff143d2",
   "metadata": {},
   "outputs": [],
   "source": [
    "frame = CDM.frames[10]\n",
    "\n",
    "ctype = \"BACK\"\n",
    "cam1 = \"CAM_{}\".format(ctype)\n",
    "cam2 = \"CAM_{}_SEMSEG\".format(ctype)\n",
    "cam3 = \"CAM_{}_DEPTH\".format(ctype)\n",
    "pc1  = \"LIDAR_TOP\"\n",
    "\n",
    "pc = CDM.get_lidar(frame=frame, sensor=pc1)\n",
    "\n",
    "MOST = avstack.environment.objects.Occlusion.MOST\n",
    "\n",
    "show_image_boxes_frame(frame, cam1)\n",
    "show_image_boxes_frame(frame, cam2)\n",
    "show_image_boxes_frame(frame, cam3)\n",
    "show_lidar_boxes(frame, pc1, cam1)"
   ]
  },
  {
   "cell_type": "markdown",
   "id": "0d31c4c3-1aa7-4653-b0b4-00ec77670aaa",
   "metadata": {},
   "source": [
    "## Run Perception"
   ]
  },
  {
   "cell_type": "code",
   "execution_count": null,
   "id": "b5ede83e-5c6f-4784-a55a-e0a85be9d7f5",
   "metadata": {},
   "outputs": [],
   "source": [
    "M2D_vehicle = avstack.modules.perception.object2dfv.MMDetObjectDetector2D(\n",
    "    model='fasterrcnn', dataset='carla', epoch='9', threshold=0.7,\n",
    ")"
   ]
  },
  {
   "cell_type": "code",
   "execution_count": null,
   "id": "210efa2a-a00b-4f8c-8baf-f30ca7accbb8",
   "metadata": {},
   "outputs": [],
   "source": [
    "frame = CDM.frames[10]\n",
    "\n",
    "cam1 = \"CAM_FRONT\"\n",
    "img = CDM.get_image(frame=frame, sensor=cam1)\n",
    "objs = CDM.get_objects(frame=frame, sensor=cam1, max_occ=avstack.environment.objects.Occlusion.PARTIAL)\n",
    "dets = M2D_vehicle(data=img)\n",
    "\n",
    "avapi.visualize.snapshot.show_image_with_boxes(img, boxes=dets, inline=True)"
   ]
  },
  {
   "cell_type": "code",
   "execution_count": null,
   "id": "cb7745aa-c95b-4efd-bd0a-4b35a7826905",
   "metadata": {},
   "outputs": [],
   "source": [
    "M3D_vehicle = avstack.modules.perception.object3d.MMDetObjectDetector3D(\n",
    "    model='pointpillars', dataset='carla', epoch='20', threshold=0.01,\n",
    ")"
   ]
  },
  {
   "cell_type": "code",
   "execution_count": null,
   "id": "b6229fc8-49f8-4881-9e7c-d49e7668f2f4",
   "metadata": {},
   "outputs": [],
   "source": [
    "CDM = CSM.get_scene_dataset_by_name(CSM.splits_scenes['train'][0])\n",
    "frame = CDM.frames[10]\n",
    "\n",
    "cam1 = \"CAM_FRONT\"\n",
    "img = CDM.get_image(frame=frame, sensor=cam1)\n",
    "pc = CDM.get_lidar(frame=frame, sensor=\"LIDAR_TOP\")\n",
    "objs = CDM.get_objects(frame=frame, sensor=\"LIDAR_TOP\", max_occ=avstack.environment.objects.Occlusion.MOST)\n",
    "# dets = M3D_vehicle(data=pc)\n",
    "print(len(dets))\n",
    "avapi.visualize.snapshot.show_image_with_boxes(img, boxes=objs, inline=True)"
   ]
  },
  {
   "cell_type": "code",
   "execution_count": null,
   "id": "e94c3aab-0758-437b-a4c5-46aedff75a99",
   "metadata": {},
   "outputs": [],
   "source": [
    "avapi.visualize.snapshot.show_lidar_bev_with_boxes(pc, boxes=objs)\n",
    "avapi.visualize.snapshot.show_lidar_bev_with_boxes(pc, boxes=dets)"
   ]
  },
  {
   "cell_type": "code",
   "execution_count": null,
   "id": "ebe4ca79-8477-43bd-9d25-b1c1e8083419",
   "metadata": {},
   "outputs": [],
   "source": [
    "CSM = CSM_sensor\n",
    "for name in CSM.splits_scenes['train']:\n",
    "    CDM = CSM.get_scene_dataset_by_name(name)\n",
    "    frame = CDM.frames[10]\n",
    "    img = CDM.get_image(frame=frame, sensor=\"main_camera\")\n",
    "    img.view()"
   ]
  },
  {
   "cell_type": "code",
   "execution_count": null,
   "id": "06007ad2-13bb-4559-af52-957f064c177a",
   "metadata": {},
   "outputs": [],
   "source": []
  }
 ],
 "metadata": {
  "kernelspec": {
   "display_name": "Python 3 (ipykernel)",
   "language": "python",
   "name": "python3"
  },
  "language_info": {
   "codemirror_mode": {
    "name": "ipython",
    "version": 3
   },
   "file_extension": ".py",
   "mimetype": "text/x-python",
   "name": "python",
   "nbconvert_exporter": "python",
   "pygments_lexer": "ipython3",
   "version": "3.8.17"
  }
 },
 "nbformat": 4,
 "nbformat_minor": 5
}
