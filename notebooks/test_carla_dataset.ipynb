{
 "cells": [
  {
   "cell_type": "code",
   "execution_count": null,
   "metadata": {},
   "outputs": [],
   "source": [
    "import os\n",
    "from avapi.carla import CarlaScenesManager\n",
    "\n",
    "\n",
    "cpath = os.path.join(\"/data/shared/CARLA/multi-agent-v1/\")\n",
    "# cpath = \"../examples/sim_results\"\n",
    "CSM = CarlaScenesManager(cpath)\n",
    "print(CSM.scenes)\n",
    "CDM = CSM.get_scene_dataset_by_name(CSM.splits_scenes[\"val\"][0])\n",
    "print(f\"{len(CDM)} frames\")"
   ]
  },
  {
   "cell_type": "code",
   "execution_count": null,
   "metadata": {},
   "outputs": [],
   "source": [
    "from avstack.modules.perception.object2dfv import MMDetObjectDetector2D\n",
    "from avstack.modules.perception.object3d import MMDetObjectDetector3D\n",
    "\n",
    "\n",
    "# init detectors|\n",
    "detector_2d =  MMDetObjectDetector2D(model=\"fasterrcnn\", dataset=\"carla-joint\", threshold=0.5)\n",
    "detector_3d = MMDetObjectDetector3D(model=\"pointpillars\", dataset=\"carla-vehicle\", threshold=0.5)\n",
    "detector_3d_inf = MMDetObjectDetector3D(model=\"pointpillars\", dataset=\"carla-infrastructure\", threshold=0.2, epoch=2)"
   ]
  },
  {
   "cell_type": "code",
   "execution_count": null,
   "metadata": {},
   "outputs": [],
   "source": [
    "from avapi.visualize.snapshot import show_lidar_bev_with_boxes, show_lidar_on_image, show_image_with_boxes\n",
    "\n",
    "# load data\n",
    "agent = 5\n",
    "frame_idx = 40\n",
    "camera_sensor = \"camera-0\"\n",
    "lidar_sensor = \"lidar-0\"\n",
    "frame = CDM.get_frames(sensor=camera_sensor, agent=agent)[frame_idx]\n",
    "img = CDM.get_image(frame=frame, sensor=camera_sensor, agent=agent)\n",
    "pc = CDM.get_lidar(frame=frame, sensor=lidar_sensor, agent=agent)\n",
    "objs = CDM.get_objects(frame=frame, sensor=lidar_sensor, agent=agent)\n",
    "\n",
    "# 2d detector\n",
    "objs_2d = detector_2d(img)\n",
    "if agent < 5:\n",
    "    objs_3d = detector_3d(pc)\n",
    "else:\n",
    "    objs_3d = detector_3d_inf(pc)\n",
    "\n",
    "# show_lidar_bev_with_boxes(pc=pc, boxes=objs)\n",
    "# show_lidar_on_image(img=img, pc=pc, boxes=objs)\n",
    "# show_image_with_boxes(img=img, boxes=objs, inline=True, return_image=False)\n",
    "# ref_gp = pc.calibration.reference.get_ground_projected_reference()\n",
    "# for obj in objs_3d:\n",
    "#     box = obj.box.change_reference(ref_gp, inplace=False)\n",
    "#     print(box.position.x[2])\n",
    "# print([obj.box.position.x[2] for obj in objs_3d])\n",
    "\n",
    "show_lidar_bev_with_boxes(pc=pc, boxes=objs)\n",
    "show_lidar_bev_with_boxes(pc=pc, boxes=objs_3d)\n",
    "show_image_with_boxes(img=img, boxes=objs_3d, inline=True, return_image=False)\n"
   ]
  },
  {
   "attachments": {},
   "cell_type": "markdown",
   "metadata": {},
   "source": [
    "## Test projection operation"
   ]
  },
  {
   "cell_type": "code",
   "execution_count": null,
   "metadata": {},
   "outputs": [],
   "source": [
    "# load data\n",
    "agent = 6\n",
    "frame_idx = 5\n",
    "camera_sensor = \"camera-0\"\n",
    "lidar_sensor = \"lidar-0\"\n",
    "frame = CDM.get_frames(sensor=camera_sensor, agent=agent)[frame_idx]\n",
    "img = CDM.get_image(frame=frame, sensor=camera_sensor, agent=agent)\n",
    "pc = CDM.get_lidar(frame=frame, sensor=lidar_sensor, agent=agent)\n",
    "objs = CDM.get_objects(frame=frame, sensor=lidar_sensor, agent=agent)\n"
   ]
  },
  {
   "cell_type": "code",
   "execution_count": null,
   "metadata": {},
   "outputs": [],
   "source": [
    "import numpy as np\n",
    "from avstack.calibration import LidarCalibration\n",
    "from avstack.geometry import transform_orientation\n",
    "\n",
    "# calib_new = LidarCalibration(reference=pc.reference.get_ground_projected_reference())\n",
    "# pc_new = pc.project(calib_new)\n",
    "pc_new = pc.transform_to_ground()\n",
    "boxes_new = [obj.box.change_reference(pc_new.reference, inplace=False) for obj in objs]\n",
    "\n",
    "print(transform_orientation(pc.reference.reference.q, 'quat', 'euler') * 180/np.pi)\n",
    "print(transform_orientation(pc_new.reference.q, 'quat', 'euler') * 180/np.pi)\n",
    "print([box.position.x[2] for box in boxes_new])"
   ]
  },
  {
   "cell_type": "code",
   "execution_count": null,
   "metadata": {},
   "outputs": [],
   "source": [
    "pc_new.data.x.max(axis=0)"
   ]
  },
  {
   "cell_type": "code",
   "execution_count": null,
   "metadata": {},
   "outputs": [],
   "source": [
    "pc_new.data.x.min(axis=0)"
   ]
  },
  {
   "cell_type": "code",
   "execution_count": null,
   "metadata": {},
   "outputs": [],
   "source": [
    "from avstack.geometry import PointMatrix3D\n",
    "from avstack.sensors import LidarData\n",
    "from avapi.carla.dataset import read_objects_from_file, read_pc_from_file, read_calibration_from_file\n",
    "\n",
    "\n",
    "# load in data from projected\n",
    "lidar_filepath = (\n",
    "    CDM.get_sensor_file(\n",
    "        frame, timestamp=None, sensor=lidar_sensor, agent=agent, file_type=\"data\"\n",
    "    )\n",
    "    + \".bin\").replace(f\"data/{lidar_sensor}\", f\"data-projected/{lidar_sensor}\")\n",
    "\n",
    "calib_filepath = (\n",
    "    CDM.get_sensor_file(\n",
    "        frame, timestamp=None, sensor=lidar_sensor, agent=agent, file_type=\"calib\"\n",
    "    )\n",
    "    + \".txt\"\n",
    ")\n",
    "calib = read_calibration_from_file(calib_filepath)\n",
    "calib.reference = calib.reference.get_ground_projected_reference()\n",
    "\n",
    "# format properly\n",
    "pc_data = PointMatrix3D(\n",
    "    x=read_pc_from_file(lidar_filepath, n_features=4, filter_front=False),\n",
    "    calibration=calib,\n",
    ")\n",
    "pc_new = LidarData(\n",
    "    data=pc_data,\n",
    "    calibration=calib,\n",
    "    timestamp=0,\n",
    "    frame=frame,\n",
    "    source_ID=lidar_sensor,\n",
    ")"
   ]
  },
  {
   "cell_type": "code",
   "execution_count": null,
   "metadata": {},
   "outputs": [],
   "source": [
    "calib.reference.reference"
   ]
  },
  {
   "cell_type": "code",
   "execution_count": null,
   "metadata": {},
   "outputs": [],
   "source": [
    "pc_new.data.x.min(axis=0)"
   ]
  },
  {
   "cell_type": "code",
   "execution_count": null,
   "metadata": {},
   "outputs": [],
   "source": [
    "pc_new.data.x.max(axis=0)"
   ]
  },
  {
   "cell_type": "code",
   "execution_count": null,
   "metadata": {},
   "outputs": [],
   "source": [
    "show_lidar_bev_with_boxes(pc=pc, boxes=objs)\n",
    "show_lidar_bev_with_boxes(pc=pc_new, boxes=boxes_new)"
   ]
  },
  {
   "cell_type": "code",
   "execution_count": null,
   "metadata": {},
   "outputs": [],
   "source": [
    "np.min(pc.data.x, axis=0)\n",
    "np.max(pc.data.x, axis=0)"
   ]
  },
  {
   "cell_type": "code",
   "execution_count": null,
   "metadata": {},
   "outputs": [],
   "source": []
  }
 ],
 "metadata": {
  "kernelspec": {
   "display_name": "carla-collaborative-r597R3hC-py3.10",
   "language": "python",
   "name": "python3"
  },
  "language_info": {
   "codemirror_mode": {
    "name": "ipython",
    "version": 3
   },
   "file_extension": ".py",
   "mimetype": "text/x-python",
   "name": "python",
   "nbconvert_exporter": "python",
   "pygments_lexer": "ipython3",
   "version": "3.10.12"
  },
  "vscode": {
   "interpreter": {
    "hash": "fd8f4e39ce837d7ffede198493b2bacfdb3f796137bc7162e476cd93b1a173b0"
   }
  }
 },
 "nbformat": 4,
 "nbformat_minor": 2
}
