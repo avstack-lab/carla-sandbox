{
 "cells": [
  {
   "cell_type": "code",
   "execution_count": null,
   "metadata": {},
   "outputs": [],
   "source": [
    "import avapi\n",
    "\n",
    "import os"
   ]
  },
  {
   "cell_type": "code",
   "execution_count": null,
   "metadata": {},
   "outputs": [],
   "source": [
    "cpath = os.path.join(\"../examples/sim_results/\")\n",
    "CSM = avapi.carla.CarlaScenesManager(cpath)\n",
    "print(CSM.scenes)\n",
    "CDM = CSM.get_scene_dataset_by_index(0)\n",
    "print(f\"{len(CDM)} frames\")"
   ]
  },
  {
   "cell_type": "code",
   "execution_count": null,
   "metadata": {},
   "outputs": [],
   "source": [
    "agent = 1\n",
    "frame_idx = 76\n",
    "camera_sensor = \"camera-1\"\n",
    "lidar_sensor = \"lidar-0\"\n",
    "frame = CDM.get_frames(sensor=camera_sensor, agent=agent)[frame_idx]\n",
    "img = CDM.get_image(frame=frame, sensor=camera_sensor, agent=agent)\n",
    "pc = CDM.get_lidar(frame=frame, sensor=lidar_sensor, agent=agent)\n",
    "objs = CDM.get_objects(frame=frame, sensor=lidar_sensor, agent=agent)\n",
    "avapi.visualize.snapshot.show_lidar_bev_with_boxes(pc=pc, boxes=objs)\n",
    "avapi.visualize.snapshot.show_lidar_on_image(img=img, pc=pc, boxes=objs)\n",
    "\n"
   ]
  },
  {
   "cell_type": "code",
   "execution_count": null,
   "metadata": {},
   "outputs": [],
   "source": []
  },
  {
   "cell_type": "code",
   "execution_count": null,
   "metadata": {},
   "outputs": [],
   "source": []
  }
 ],
 "metadata": {
  "kernelspec": {
   "display_name": "carla-sandbox-AEPFVd1g-py3.10",
   "language": "python",
   "name": "python3"
  },
  "language_info": {
   "codemirror_mode": {
    "name": "ipython",
    "version": 3
   },
   "file_extension": ".py",
   "mimetype": "text/x-python",
   "name": "python",
   "nbconvert_exporter": "python",
   "pygments_lexer": "ipython3",
   "version": "3.10.12"
  }
 },
 "nbformat": 4,
 "nbformat_minor": 2
}
