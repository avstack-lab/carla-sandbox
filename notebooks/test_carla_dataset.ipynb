{
 "cells": [
  {
   "cell_type": "code",
   "execution_count": null,
   "metadata": {},
   "outputs": [],
   "source": [
    "import os\n",
    "from tqdm import tqdm"
   ]
  },
  {
   "cell_type": "code",
   "execution_count": null,
   "metadata": {},
   "outputs": [],
   "source": [
    "from avapi.carla import CarlaScenesManager\n",
    "\n",
    "\n",
    "cpath = os.path.join(\"/data/shared/CARLA/multi-agent-v1/\")\n",
    "# cpath = \"../examples/sim_results\"\n",
    "CSM = CarlaScenesManager(cpath)\n",
    "print(CSM.scenes)\n",
    "CDM = CSM.get_scene_dataset_by_index(0)\n",
    "print(f\"{len(CDM)} frames\")"
   ]
  },
  {
   "cell_type": "code",
   "execution_count": null,
   "metadata": {},
   "outputs": [],
   "source": [
    "from avapi.visualize.snapshot import show_lidar_bev_with_boxes, show_lidar_on_image, show_image_with_boxes\n",
    "\n",
    "agent = 0\n",
    "frame_idx = 60\n",
    "camera_sensor = \"camera-1\"\n",
    "# lidar_sensor = \"lidar-0\"\n",
    "frame = CDM.get_frames(sensor=camera_sensor, agent=agent)[frame_idx]\n",
    "img = CDM.get_image(frame=frame, sensor=camera_sensor, agent=agent)\n",
    "# pc = CDM.get_lidar(frame=frame, sensor=lidar_sensor, agent=agent)\n",
    "# objs = CDM.get_objects(frame=frame, sensor=lidar_sensor, agent=agent)\n",
    "# show_lidar_bev_with_boxes(pc=pc, boxes=objs)\n",
    "# show_lidar_on_image(img=img, pc=pc, boxes=objs)\n",
    "im_out = show_image_with_boxes(img=img, boxes=[], inline=True, return_image=True)\n",
    "\n"
   ]
  },
  {
   "attachments": {},
   "cell_type": "markdown",
   "metadata": {},
   "source": [
    "## Test Different Perception/Tracking Approaches"
   ]
  },
  {
   "cell_type": "code",
   "execution_count": null,
   "metadata": {},
   "outputs": [],
   "source": [
    "from avstack.geometry import Sphere, Circle\n",
    "\n",
    "from avstack.modules.perception.object3d import Passthrough3DObjectDetector\n",
    "from avstack.modules.tracking.tracker3d import BasicBoxTracker3D\n",
    "from avstack.modules.tracking.multisensor import MeasurementBasedMultiTracker\n",
    "\n",
    "from avstack.datastructs import DataContainer\n",
    "\n",
    "# init models\n",
    "agents = [0, 1]\n",
    "percep = Passthrough3DObjectDetector()\n",
    "trackers = {agent: BasicBoxTracker3D() for agent in agents}\n",
    "trackers[\"central\"] = MeasurementBasedMultiTracker(tracker=BasicBoxTracker3D())\n",
    "\n",
    "# run loop\n",
    "dets = {}\n",
    "tracks = {}\n",
    "imgs_all = {agent: [] for agent in agents}\n",
    "dets_all = {agent: [] for agent in agents}\n",
    "tracks_all = {agent: [] for agent in agents}\n",
    "tracks_all[\"central\"] = []\n",
    "agent_0_frames = CDM.get_frames(sensor=\"lidar-0\", agent=0)[1:-1]\n",
    "for frame in tqdm(agent_0_frames):\n",
    "    # run perception and individual trackers\n",
    "    found_data = False\n",
    "    fovs = {}\n",
    "    platforms = {}\n",
    "    for agent in agents:\n",
    "        ###############################################\n",
    "        # GET DATA\n",
    "        ###############################################\n",
    "        lidar_sensor = \"lidar-0\"\n",
    "        camera_sensor = \"camera-0\"\n",
    "        img = CDM.get_image(frame=frame, sensor=camera_sensor, agent=agent)\n",
    "        imgs_all[agent].append(img)\n",
    "        objs = CDM.get_objects(frame=frame, sensor=lidar_sensor, agent=agent)\n",
    "        calib = CDM.get_calibration(frame=frame, sensor=lidar_sensor, agent=agent)\n",
    "        fovs[agent] = Sphere(radius=100)\n",
    "        platforms[agent] = calib.reference\n",
    "\n",
    "        ###############################################\n",
    "        # DISTRIBUTED PERCEPTION\n",
    "        ###############################################\n",
    "        found_data = True\n",
    "        dets[agent] = percep(objs)\n",
    "        dets_all[agent].append(dets[agent])\n",
    "\n",
    "        ###############################################\n",
    "        # DISTRIBUTED TRACKING USING DISTRIBUTED PERCEP\n",
    "        ###############################################\n",
    "        tracks[agent] = trackers[agent](dets[agent], platform=calib.reference)\n",
    "        if not isinstance(tracks[agent], DataContainer):\n",
    "            raise\n",
    "        tracks_all[agent].append([track.box3d.copy() for track in tracks[agent]])\n",
    "\n",
    "    ###############################################\n",
    "    # CENTRALIZED PERCEPTION\n",
    "    ###############################################\n",
    "    ######\n",
    "    # TODO: QINGZHAO TO COMPLETE\n",
    "    ######\n",
    "        \n",
    "    ###############################################\n",
    "    # CENTRALIZED TRACKING USING DISTRIBUTED PERCEP\n",
    "    ###############################################\n",
    "    # run central tracker on all detections\n",
    "    if found_data:\n",
    "        tracks[\"central\"] = trackers[\"central\"](\n",
    "            detections=dets,\n",
    "            fovs=fovs,\n",
    "            platforms=platforms,\n",
    "        )\n",
    "        tracks_all[\"central\"].append(tracks[\"central\"])\n",
    "\n",
    "\n"
   ]
  },
  {
   "cell_type": "markdown",
   "metadata": {},
   "source": [
    "#### Verify that the union of the two is similar to the central"
   ]
  },
  {
   "cell_type": "code",
   "execution_count": null,
   "metadata": {},
   "outputs": [],
   "source": [
    "from avapi.visualize.snapshot import show_lidar_bev_with_boxes, show_boxes_bev\n",
    "\n",
    "from avstack.geometry import GlobalOrigin3D\n",
    "\n",
    "tracks_all = tracks[0]+tracks[1]\n",
    "tracks_all = [track.change_reference(GlobalOrigin3D, inplace=False) for track in tracks_all]\n",
    "show_boxes_bev(boxes=tracks_all)\n",
    "show_boxes_bev(boxes=tracks[\"central\"])"
   ]
  },
  {
   "cell_type": "code",
   "execution_count": null,
   "metadata": {},
   "outputs": [],
   "source": [
    "extent = [[-70, 70], [-70, 70], [-100, 100]]\n",
    "show_lidar_bev_with_boxes(pc=pc, boxes=[], extent=extent)\n",
    "show_lidar_bev_with_boxes(pc=pc, boxes=tracks[0], extent=extent)\n",
    "show_lidar_bev_with_boxes(pc=pc, boxes=tracks_all, extent=extent)\n",
    "show_lidar_bev_with_boxes(pc=pc, boxes=tracks[\"central\"], extent=extent)"
   ]
  },
  {
   "cell_type": "markdown",
   "metadata": {},
   "source": [
    "#### Make a video of the results"
   ]
  },
  {
   "cell_type": "code",
   "execution_count": null,
   "metadata": {},
   "outputs": [],
   "source": [
    "from avapi.visualize.movie import make_movie\n",
    "\n",
    "\n",
    "for agent in agents:\n",
    "\n",
    "    ###############################################\n",
    "    # CAMERA-BASED VISUALIZATION\n",
    "    ###############################################\n",
    "\n",
    "    # perception movie\n",
    "    make_movie(\n",
    "        raw_imgs=imgs_all[agent],\n",
    "        boxes=dets_all[agent],\n",
    "        name=f\"agent-{agent}-perception-img\",\n",
    "        save=True,\n",
    "        show_in_notebook=False,\n",
    "        projection=\"img\",\n",
    "    )\n",
    "\n",
    "    # tracking movie\n",
    "    make_movie(\n",
    "        raw_imgs=imgs_all[agent],\n",
    "        boxes=tracks_all[agent],\n",
    "        name=f\"agent-{agent}-tracking-img\",\n",
    "        save=True,\n",
    "        show_in_notebook=False,\n",
    "        projection=\"img\",\n",
    "    )\n",
    "\n",
    "    ###############################################\n",
    "    # BEV-BASED VISUALIZATION\n",
    "    ###############################################\n",
    "\n",
    "    # perception movie\n",
    "    make_movie(\n",
    "        raw_imgs=imgs_all[agent],\n",
    "        boxes=dets_all[agent],\n",
    "        name=f\"agent-{agent}-perception-bev\",\n",
    "        save=True,\n",
    "        show_in_notebook=False,\n",
    "        projection=\"bev\",\n",
    "    )\n",
    "\n",
    "    # tracking movie\n",
    "    make_movie(\n",
    "        raw_imgs=imgs_all[agent],\n",
    "        boxes=tracks_all[agent],\n",
    "        name=f\"agent-{agent}-tracking-bev\",\n",
    "        save=True,\n",
    "        show_in_notebook=False,\n",
    "        projection=\"bev\",\n",
    "    )\n",
    "\n"
   ]
  },
  {
   "cell_type": "code",
   "execution_count": null,
   "metadata": {},
   "outputs": [],
   "source": []
  }
 ],
 "metadata": {
  "kernelspec": {
   "display_name": "Python 3 (ipykernel)",
   "language": "python",
   "name": "python3"
  },
  "language_info": {
   "codemirror_mode": {
    "name": "ipython",
    "version": 3
   },
   "file_extension": ".py",
   "mimetype": "text/x-python",
   "name": "python",
   "nbconvert_exporter": "python",
   "pygments_lexer": "ipython3",
   "version": "3.10.12"
  },
  "vscode": {
   "interpreter": {
    "hash": "8fd26ef1375f99c5239a110b83fd69a7b5f1ce66cf2077a2ffd38b843b4734ab"
   }
  }
 },
 "nbformat": 4,
 "nbformat_minor": 2
}
