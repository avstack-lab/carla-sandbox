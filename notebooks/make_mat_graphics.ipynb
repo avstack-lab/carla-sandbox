{
 "cells": [
  {
   "cell_type": "code",
   "execution_count": null,
   "metadata": {},
   "outputs": [],
   "source": [
    "import os"
   ]
  },
  {
   "cell_type": "markdown",
   "metadata": {},
   "source": [
    "### Occlusions"
   ]
  },
  {
   "cell_type": "code",
   "execution_count": null,
   "metadata": {},
   "outputs": [],
   "source": [
    "import numpy as np\n",
    "import matplotlib.pyplot as plt\n",
    "from matplotlib.patches import Polygon\n",
    "from avapi.visualize.snapshot import show_image_with_boxes, show_lidar_bev_with_boxes\n",
    "from avapi.carla import CarlaScenesManager\n",
    "\n",
    "# carla scene manager\n",
    "cpath = os.path.join(\"/data/shared/CARLA/multi-agent-intersection/\")\n",
    "CSM = CarlaScenesManager(cpath)\n",
    "idx = 1\n",
    "CDM = CSM.get_scene_dataset_by_index(idx)\n",
    "vid_folder = f\"videos_intersection_{idx}\"\n",
    "\n",
    "print(CSM.scenes)\n",
    "print(f\"{len(CDM)} frames\")\n",
    "\n",
    "frame_idx = 20\n",
    "camera_sensor = \"camera-0\"\n",
    "\n",
    "# load image\n",
    "agent = 0\n",
    "frame = CDM.get_frames(sensor=camera_sensor, agent=agent)[frame_idx]\n",
    "img = CDM.get_image(frame=frame, sensor=camera_sensor, agent=agent)\n",
    "show_image_with_boxes(img=img, boxes=[], inline=True)\n",
    "\n",
    "# load images from infra agents\n",
    "agent = 2\n",
    "frame = CDM.get_frames(sensor=camera_sensor, agent=agent)[frame_idx]\n",
    "img = CDM.get_image(frame=frame, sensor=camera_sensor, agent=agent)\n",
    "show_image_with_boxes(img=img, boxes=[], inline=True)"
   ]
  },
  {
   "cell_type": "markdown",
   "metadata": {},
   "source": [
    "### Field of View Model"
   ]
  },
  {
   "cell_type": "code",
   "execution_count": null,
   "metadata": {},
   "outputs": [],
   "source": [
    "import numpy as np\n",
    "import matplotlib.pyplot as plt\n",
    "from matplotlib.patches import Polygon\n",
    "from avapi.visualize.snapshot import show_image_with_boxes, show_lidar_bev_with_boxes\n",
    "from avapi.carla import CarlaScenesManager\n",
    "\n",
    "# carla scene manager\n",
    "cpath = os.path.join(\"/data/shared/CARLA/multi-agent-intersection/\")\n",
    "CSM = CarlaScenesManager(cpath)\n",
    "idx = 0\n",
    "CDM = CSM.get_scene_dataset_by_index(idx)\n",
    "vid_folder = f\"videos_intersection_{idx}\"\n",
    "\n",
    "print(CSM.scenes)\n",
    "print(f\"{len(CDM)} frames\")\n",
    "\n",
    "agent = 0\n",
    "frame_idx = 20\n",
    "\n",
    "# load image\n",
    "camera_sensor = \"camera-0\"\n",
    "frame = CDM.get_frames(sensor=camera_sensor, agent=agent)[frame_idx]\n",
    "img = CDM.get_image(frame=frame, sensor=camera_sensor, agent=agent)\n",
    "show_image_with_boxes(img=img, boxes=[], inline=True)\n",
    "\n",
    "# load point cloud\n",
    "lidar_sensor = \"lidar-0\"\n",
    "frame = CDM.get_frames(sensor=lidar_sensor, agent=agent)[frame_idx]\n",
    "pc = CDM.get_lidar(frame=frame, sensor=lidar_sensor, agent=agent)\n",
    "show_lidar_bev_with_boxes(pc=pc, boxes=[])\n",
    "\n",
    "# run concave hull algorithm\n",
    "hull = pc.concave_hull_bev(concavity=1, length_threshold=10)\n",
    "fig, ax = plt.subplots()\n",
    "ax.plot(-1 * hull.boundary[:, 1], hull.boundary[:, 0], linewidth=3)\n",
    "polygon = Polygon(\n",
    "    np.array([-1, 1]) * hull.boundary[:, [1, 0]],\n",
    "    closed=True,\n",
    "    facecolor=\"blue\",\n",
    "    alpha=0.25,\n",
    ")\n",
    "ax.add_patch(polygon)\n",
    "plt.axis(\"scaled\")\n",
    "plt.axis(\"off\")\n",
    "plt.show()"
   ]
  },
  {
   "cell_type": "code",
   "execution_count": null,
   "metadata": {},
   "outputs": [],
   "source": []
  }
 ],
 "metadata": {
  "kernelspec": {
   "display_name": "mat-ue-6K6rSsfX-py3.10",
   "language": "python",
   "name": "python3"
  },
  "language_info": {
   "codemirror_mode": {
    "name": "ipython",
    "version": 3
   },
   "file_extension": ".py",
   "mimetype": "text/x-python",
   "name": "python",
   "nbconvert_exporter": "python",
   "pygments_lexer": "ipython3",
   "version": "3.10.12"
  }
 },
 "nbformat": 4,
 "nbformat_minor": 2
}
