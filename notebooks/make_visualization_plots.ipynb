{
 "cells": [
  {
   "cell_type": "code",
   "execution_count": null,
   "metadata": {},
   "outputs": [],
   "source": [
    "import os\n",
    "import cv2\n",
    "from avapi.carla import CarlaScenesManager\n",
    "\n",
    "\n",
    "cpath = os.path.join(\"/data/shared/CARLA/multi-agent-visualization\")\n",
    "CSM = CarlaScenesManager(cpath)\n",
    "print(CSM.scenes)\n",
    "idx = 1\n",
    "CDM = CSM.get_scene_dataset_by_index(idx)\n",
    "print(f\"{len(CDM)} frames\")\n",
    "\n",
    "save_folder = f\"visualization_output_{idx}\"\n",
    "os.makedirs(save_folder, exist_ok=True)"
   ]
  },
  {
   "cell_type": "code",
   "execution_count": null,
   "metadata": {},
   "outputs": [],
   "source": [
    "from avstack.modules.perception.object2dfv import MMDetObjectDetector2D\n",
    "from avstack.modules.perception.object3d import MMDetObjectDetector3D\n",
    "from avapi.visualize.snapshot import show_lidar_bev_with_boxes, show_lidar_on_image, show_image_with_boxes\n",
    "from avapi.visualize.movie import make_movie"
   ]
  },
  {
   "cell_type": "code",
   "execution_count": null,
   "metadata": {},
   "outputs": [],
   "source": [
    "detector3d_veh = MMDetObjectDetector3D(model=\"pointpillars\", dataset=\"carla-vehicle\")\n",
    "detector3d_inf = MMDetObjectDetector3D(model=\"pointpillars\", dataset=\"carla-infrastructure\")"
   ]
  },
  {
   "cell_type": "code",
   "execution_count": null,
   "metadata": {},
   "outputs": [],
   "source": [
    "frame_idx = 55\n",
    "\n",
    "# BEV zoomed in\n",
    "agent = 5\n",
    "camera_sensor = \"camera-0\"\n",
    "frame = CDM.get_frames(sensor=camera_sensor, agent=agent)[frame_idx]\n",
    "img = CDM.get_image(frame=frame, sensor=camera_sensor, agent=agent)\n",
    "im_out = show_image_with_boxes(img=img, boxes=[], inline=True, return_image=True)\n",
    "im_out = cv2.cvtColor(im_out, cv2.COLOR_BGR2RGB) \n",
    "cv2.imwrite(os.path.join(save_folder, \"bev-full.png\"), im_out)\n",
    "\n",
    "# BEV from camera\n",
    "agent = 4\n",
    "camera_sensor = \"camera-0\"\n",
    "frame = CDM.get_frames(sensor=camera_sensor, agent=agent)[frame_idx]\n",
    "img = CDM.get_image(frame=frame, sensor=camera_sensor, agent=agent)\n",
    "im_out = show_image_with_boxes(img=img, boxes=[], inline=True, return_image=True)\n",
    "im_out = cv2.cvtColor(im_out, cv2.COLOR_BGR2RGB) \n",
    "cv2.imwrite(os.path.join(save_folder, \"bev-zoomed.png\"), im_out)\n",
    "\n",
    "# ego agent view\n",
    "agent = 0\n",
    "camera_sensor = \"camera-0\"\n",
    "frame = CDM.get_frames(sensor=camera_sensor, agent=agent)[frame_idx]\n",
    "img = CDM.get_image(frame=frame, sensor=camera_sensor, agent=agent)\n",
    "im_out = show_image_with_boxes(img=img, boxes=[], inline=True, return_image=True)\n",
    "im_out = cv2.cvtColor(im_out, cv2.COLOR_BGR2RGB) \n",
    "cv2.imwrite(os.path.join(save_folder, \"ego-camera.png\"), im_out)\n",
    "\n"
   ]
  },
  {
   "cell_type": "code",
   "execution_count": null,
   "metadata": {},
   "outputs": [],
   "source": [
    "# ego agent view\n",
    "agent = 0\n",
    "camera_sensor = \"camera-0\"\n",
    "lidar_sensor = \"lidar-0\"\n",
    "frame = CDM.get_frames(sensor=camera_sensor, agent=agent)[frame_idx]\n",
    "img = CDM.get_image(frame=frame, sensor=camera_sensor, agent=agent)\n",
    "pc = CDM.get_lidar(frame=frame, sensor=lidar_sensor, agent=agent)\n",
    "# for some reason it filtered the next door box...\n",
    "# objs = CDM.get_objects(frame=frame, sensor=lidar_sensor, agent=agent)\n",
    "objs = detector3d_veh(pc)\n",
    "\n",
    "im_out = show_lidar_bev_with_boxes(pc=pc, boxes=objs, return_image=True)\n",
    "im_out = cv2.cvtColor(im_out, cv2.COLOR_BGR2RGB) \n",
    "cv2.imwrite(os.path.join(save_folder, \"ego-lidar-bev.png\"), im_out)\n",
    "\n",
    "im_out = show_image_with_boxes(img=img, boxes=objs, inline=True, return_image=True)\n",
    "im_out = cv2.cvtColor(im_out, cv2.COLOR_BGR2RGB) \n",
    "cv2.imwrite(os.path.join(save_folder, \"ego-camera-boxes.png\"), im_out)\n",
    "\n",
    "# infrastructure views\n",
    "for agent in range(1, 4):\n",
    "    camera_sensor = \"camera-0\"\n",
    "    lidar_sensor = \"lidar-0\"\n",
    "    frame = CDM.get_frames(sensor=camera_sensor, agent=agent)[frame_idx]\n",
    "    img = CDM.get_image(frame=frame, sensor=camera_sensor, agent=agent)\n",
    "    pc = CDM.get_lidar(frame=frame, sensor=lidar_sensor, agent=agent)\n",
    "    # objs = CDM.get_objects(frame=frame, sensor=lidar_sensor, agent=agent)\n",
    "    objs = detector3d_inf(pc)\n",
    "\n",
    "    im_out = show_lidar_bev_with_boxes(pc=pc, boxes=objs, return_image=True)\n",
    "    im_out = cv2.cvtColor(im_out, cv2.COLOR_BGR2RGB) \n",
    "    cv2.imwrite(os.path.join(save_folder, f\"agent-{agent}-lidar-bev.png\"), im_out)\n",
    "\n",
    "    im_out = show_image_with_boxes(img=img, boxes=[], inline=True, return_image=True)\n",
    "    im_out = cv2.cvtColor(im_out, cv2.COLOR_BGR2RGB) \n",
    "    cv2.imwrite(os.path.join(save_folder, f\"agent-{agent}-camera.png\"), im_out)\n",
    "\n",
    "    im_out = show_image_with_boxes(img=img, boxes=objs, inline=True, return_image=True)\n",
    "    im_out = cv2.cvtColor(im_out, cv2.COLOR_BGR2RGB) \n",
    "    cv2.imwrite(os.path.join(save_folder, f\"agent-{agent}-camera-boxes.png\"), im_out)"
   ]
  },
  {
   "cell_type": "code",
   "execution_count": null,
   "metadata": {},
   "outputs": [],
   "source": [
    "# infrastructure view videos\n",
    "for agent in range(1, 4):\n",
    "    camera_sensor = \"camera-0\"\n",
    "    frames = CDM.get_frames(sensor=camera_sensor, agent=agent)[1:-1]\n",
    "    boxes = [\n",
    "        CDM.get_objects(frame, sensor=camera_sensor, agent=agent) for frame in frames\n",
    "    ]\n",
    "    raw_imgs = [CDM.get_image(frame, sensor=camera_sensor, agent=agent) for frame in frames]\n",
    "    filepath = os.path.join(save_folder, f\"agent-{agent}-camera-movie.mp4\")\n",
    "    make_movie(raw_imgs=raw_imgs, boxes=boxes, show_in_notebook=False, save=True, name=filepath)\n",
    "    \n",
    "\n",
    "    # frame = CDM.get_frames(sensor=camera_sensor, agent=agent)[frame_idx]\n",
    "    # img = CDM.get_image(frame=frame, sensor=camera_sensor, agent=agent)\n",
    "    # pc = CDM.get_lidar(frame=frame, sensor=lidar_sensor, agent=agent)\n",
    "    # objs = CDM.get_objects(frame=frame, sensor=lidar_sensor, agent=agent)\n",
    "\n",
    "    # show_lidar_bev_with_boxes(pc=pc, boxes=objs)\n",
    "    # show_image_with_boxes(img=img, boxes=[], inline=True, return_image=False)\n",
    "    # show_image_with_boxes(img=img, boxes=objs, inline=True, return_image=False)"
   ]
  },
  {
   "cell_type": "code",
   "execution_count": null,
   "metadata": {},
   "outputs": [],
   "source": []
  }
 ],
 "metadata": {
  "kernelspec": {
   "display_name": "carla-sandbox-AEPFVd1g-py3.10",
   "language": "python",
   "name": "python3"
  },
  "language_info": {
   "codemirror_mode": {
    "name": "ipython",
    "version": 3
   },
   "file_extension": ".py",
   "mimetype": "text/x-python",
   "name": "python",
   "nbconvert_exporter": "python",
   "pygments_lexer": "ipython3",
   "version": "3.10.12"
  }
 },
 "nbformat": 4,
 "nbformat_minor": 2
}
