{
 "cells": [
  {
   "cell_type": "code",
   "execution_count": null,
   "id": "d6488194-83c5-4d6a-9776-fe34f784c183",
   "metadata": {},
   "outputs": [],
   "source": [
    "import avstack\n",
    "import avapi\n",
    "\n",
    "# data_dir_sensor = '/data/spencer/CARLA/multi-sensor-v1/'\n",
    "data_dir_sensor = '/data/spencer/CARLA/ego-lidar'\n",
    "CSM_sensor = avapi.carla.CarlaScenesManager(data_dir=data_dir_sensor)\n",
    "data_dir_agent  = '/data/spencer/CARLA/multi-agent-v1/'\n",
    "CSM_agent = avapi.carla.CarlaScenesManager(data_dir=data_dir_agent)\n",
    "\n",
    "data_dir_nuscenes = '/data/spencer/nuScenes/'\n",
    "NSM = avapi.nuscenes.nuScenesManager(data_dir=data_dir_nuscenes, split='v1.0-trainval')"
   ]
  },
  {
   "cell_type": "code",
   "execution_count": null,
   "id": "93e7254b-a8c6-4e5c-a580-030dbca55c14",
   "metadata": {},
   "outputs": [],
   "source": [
    "def compute_stats(SM):\n",
    "    n_images = 0\n",
    "    n_lidars = 0\n",
    "    n_radars = 0\n",
    "    n_objects = 0\n",
    "    \n",
    "    for SD in SM:\n",
    "        for frame in SD.frames:\n",
    "            try:\n",
    "                n_objects += SD.get_number_of_objects(frame)\n",
    "            except (KeyError, FileNotFoundError):\n",
    "                pass\n",
    "        for sensor in SD.sensor_IDs:\n",
    "            if 'cam' in sensor.lower():\n",
    "                n_images += len(SD.get_frames(sensor=sensor))\n",
    "            elif 'lidar' in sensor.lower():\n",
    "                n_lidars += len(SD.get_frames(sensor=sensor))\n",
    "            elif 'radar' in sensor.lower():\n",
    "                n_radars += len(SD.get_frames(sensor=sensor))\n",
    "            else:\n",
    "                print(sensor)\n",
    "    print(f'{n_objects} objects\\n{n_images} images\\n{n_lidars} lidar point clouds\\n{n_radars} radar point clouds')"
   ]
  },
  {
   "cell_type": "markdown",
   "id": "7ffed8ad-0b0f-4a74-90be-4ce2247559a7",
   "metadata": {},
   "source": [
    "## Multi-Sensor Dataset"
   ]
  },
  {
   "cell_type": "code",
   "execution_count": null,
   "id": "cbc84dbe-5a24-47f7-9bdc-c85c5596fec8",
   "metadata": {},
   "outputs": [],
   "source": [
    "# for name, SM in [('nuscenes', NSM), ('ours (sensor)', CSM_sensor)]:\n",
    "for name, SM in [('ours (sensor)', CSM_sensor), ('ours (agent)', CSM_agent)]:\n",
    "    print(name)\n",
    "    compute_stats(SM)\n",
    "    print('\\n')"
   ]
  },
  {
   "cell_type": "markdown",
   "id": "3384ea7f-9398-4f0b-a507-531e8631b1d7",
   "metadata": {},
   "source": [
    "## Multi-Agent Datset"
   ]
  },
  {
   "cell_type": "code",
   "execution_count": null,
   "id": "a946597b-1cca-4ea2-9ad7-444c67536e36",
   "metadata": {},
   "outputs": [],
   "source": [
    "compute_stats(CSM_agent)"
   ]
  },
  {
   "cell_type": "code",
   "execution_count": null,
   "id": "7e065325-4c44-4e4f-8cef-820d56754b91",
   "metadata": {},
   "outputs": [],
   "source": []
  }
 ],
 "metadata": {
  "kernelspec": {
   "display_name": "Python 3 (ipykernel)",
   "language": "python",
   "name": "python3"
  },
  "language_info": {
   "codemirror_mode": {
    "name": "ipython",
    "version": 3
   },
   "file_extension": ".py",
   "mimetype": "text/x-python",
   "name": "python",
   "nbconvert_exporter": "python",
   "pygments_lexer": "ipython3",
   "version": "3.8.17"
  }
 },
 "nbformat": 4,
 "nbformat_minor": 5
}
