{
 "cells": [
  {
   "cell_type": "code",
   "execution_count": null,
   "metadata": {},
   "outputs": [],
   "source": [
    "from copy import deepcopy\n",
    "import numpy as np\n",
    "from datetime import datetime\n",
    "\n",
    "start_time = datetime.now()\n",
    "num_steps = 50"
   ]
  },
  {
   "cell_type": "markdown",
   "metadata": {},
   "source": [
    "## Ground truth simulator"
   ]
  },
  {
   "cell_type": "code",
   "execution_count": null,
   "metadata": {},
   "outputs": [],
   "source": [
    "from stonesoup.models.transition.linear import (\n",
    "    CombinedLinearGaussianTransitionModel,\n",
    "    ConstantVelocity,\n",
    ")\n",
    "\n",
    "truth_transition_model = CombinedLinearGaussianTransitionModel(\n",
    "    (ConstantVelocity(0.5), ConstantVelocity(0.5), ConstantVelocity(0.5))\n",
    ")\n",
    "\n",
    "from stonesoup.simulator.simple import MultiTargetGroundTruthSimulator\n",
    "from stonesoup.types.state import GaussianState\n",
    "\n",
    "gt_simulator = MultiTargetGroundTruthSimulator(\n",
    "    transition_model=truth_transition_model,\n",
    "    initial_state=GaussianState(\n",
    "        [0, 0, 0, 0, 500, 0], np.diag([100, 1, 100, 1, 100, 1]), timestamp=start_time\n",
    "    ),\n",
    "    birth_rate=0,\n",
    "    death_probability=0,\n",
    "    number_steps=num_steps,\n",
    "    preexisting_states=[[-100, 4, -200, 0.5, 500, 0], [0, 5, 300, -0.5, 500, 0]],\n",
    ")"
   ]
  },
  {
   "cell_type": "code",
   "execution_count": null,
   "metadata": {},
   "outputs": [],
   "source": [
    "from stonesoup.models.clutter.clutter import ClutterModel\n",
    "\n",
    "clutter_model = ClutterModel(\n",
    "    clutter_rate=2.0,\n",
    "    distribution=np.random.default_rng().uniform,\n",
    "    dist_params=((-600.0, 600.0), (-600.0, 600.0), (250.0, 750.0)),\n",
    ")"
   ]
  },
  {
   "cell_type": "code",
   "execution_count": null,
   "metadata": {},
   "outputs": [],
   "source": []
  }
 ],
 "metadata": {
  "kernelspec": {
   "display_name": "mat-ue-6K6rSsfX-py3.10",
   "language": "python",
   "name": "python3"
  },
  "language_info": {
   "name": "python",
   "version": "3.10.12"
  }
 },
 "nbformat": 4,
 "nbformat_minor": 2
}
