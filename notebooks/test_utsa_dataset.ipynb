{
 "cells": [
  {
   "cell_type": "markdown",
   "metadata": {},
   "source": [
    "# Visualizing and Testing Algorithms on UTSA Dataset"
   ]
  },
  {
   "cell_type": "code",
   "execution_count": null,
   "metadata": {},
   "outputs": [],
   "source": [
    "import os\n",
    "from avapi.carla import CarlaScenesManager\n",
    "\n",
    "\n",
    "cpath = os.path.join(\"/data/shared/CARLA/multi-agent-aerial-utsa/raw\")\n",
    "CSM = CarlaScenesManager(cpath)\n",
    "print(f\"{len(CSM.scenes)} scenes for the dataset\")\n",
    "\n",
    "CDM = CSM.get_scene_dataset_by_index(0)\n",
    "print(f\"Frist scenes has {len(CDM)} frames\")"
   ]
  },
  {
   "cell_type": "code",
   "execution_count": null,
   "metadata": {},
   "outputs": [],
   "source": [
    "from avapi.visualize.snapshot import show_image_with_boxes\n",
    "\n",
    "\n",
    "# specify viewing\n",
    "frame_idx = 5  # need to index into carla (see below) to get the frame\n",
    "agent = 0\n",
    "camera_sensor = \"camera-0\"\n",
    "\n",
    "# specify which frame\n",
    "frame = CDM.get_frames(sensor=camera_sensor, agent=agent)[frame_idx]\n",
    "timestamp = CDM.get_timestamp(frame=frame, sensor=camera_sensor, agent=agent)\n",
    "\n",
    "# get sensor data\n",
    "img = CDM.get_image(frame=frame, sensor=camera_sensor, agent=agent)\n",
    "objs = CDM.get_objects(frame=frame, sensor=camera_sensor, agent=agent)\n",
    "\n",
    "# get 2D/3D boxes\n",
    "boxes_3d = objs.apply_and_return(\"getattr\", \"box\")\n",
    "boxes_2d = boxes_3d.apply_and_return(\"project_to_2d_bbox\", img.calibration)\n",
    "\n",
    "# show image with 3D boxes\n",
    "show_image_with_boxes(img, boxes=boxes_3d, inline=True)\n",
    "show_image_with_boxes(img, boxes=boxes_2d, inline=True)"
   ]
  },
  {
   "cell_type": "code",
   "execution_count": null,
   "metadata": {},
   "outputs": [],
   "source": []
  }
 ],
 "metadata": {
  "kernelspec": {
   "display_name": "carla-sandbox-AEPFVd1g-py3.10",
   "language": "python",
   "name": "python3"
  },
  "language_info": {
   "codemirror_mode": {
    "name": "ipython",
    "version": 3
   },
   "file_extension": ".py",
   "mimetype": "text/x-python",
   "name": "python",
   "nbconvert_exporter": "python",
   "pygments_lexer": "ipython3",
   "version": "3.10.12"
  }
 },
 "nbformat": 4,
 "nbformat_minor": 2
}
