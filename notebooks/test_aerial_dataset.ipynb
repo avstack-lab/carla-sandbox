{
 "cells": [
  {
   "cell_type": "code",
   "execution_count": null,
   "metadata": {},
   "outputs": [],
   "source": [
    "import os\n",
    "from avapi.carla import CarlaScenesManager\n",
    "\n",
    "\n",
    "cpath = os.path.join(\"/data/shared/CARLA/multi-agent-aerial-dense\")\n",
    "CSM = CarlaScenesManager(cpath)\n",
    "print(CSM.scenes)\n",
    "CDM = CSM.get_scene_dataset_by_index(0)\n",
    "print(f\"{len(CDM)} frames\")"
   ]
  },
  {
   "cell_type": "code",
   "execution_count": null,
   "metadata": {},
   "outputs": [],
   "source": [
    "from avapi.visualize.snapshot import show_lidar_bev_with_boxes, show_lidar_on_image\n",
    "\n",
    "# efrom avapi.visualize.snapshot import show_image\n",
    "\n",
    "\n",
    "agent = 0\n",
    "frame_idx = 20\n",
    "camera_sensor = \"camera-0\"\n",
    "# lidar_sensor = \"lidar-0\"\n",
    "frame = CDM.get_frames(sensor=camera_sensor, agent=agent)[frame_idx]\n",
    "img = CDM.get_image(frame=frame, sensor=camera_sensor, agent=agent)\n",
    "# pc = CDM.get_lidar(frame=frame, sensor=lidar_sensor, agent=agent)\n",
    "# objs = CDM.get_objects(frame=frame, sensor=lidar_sensor, agent=agent)\n",
    "# show_lidar_bev_with_boxes(pc=pc, boxes=objs)\n",
    "# show_lidar_on_image(img=img, pc=pc, boxes=objs)\n",
    "img.view()"
   ]
  },
  {
   "cell_type": "markdown",
   "metadata": {},
   "source": [
    "## Test a tracking scenario"
   ]
  },
  {
   "cell_type": "code",
   "execution_count": null,
   "metadata": {},
   "outputs": [],
   "source": [
    "from avstack.geometry import Sphere, Circle\n",
    "\n",
    "from avstack.modules.perception.object3d import Passthrough3DObjectDetector\n",
    "from avstack.modules.tracking.tracker3d import BasicBoxTracker3D\n",
    "from avstack.modules.tracking.multisensor import MeasurementBasedMultiTracker\n",
    "\n",
    "from avapi.visualize.snapshot import show_lidar_bev_with_boxes, show_boxes_bev\n",
    "\n",
    "\n",
    "# init models\n",
    "agents = [0, 1, 2]\n",
    "percep = Passthrough3DObjectDetector()\n",
    "trackers = {agent: BasicBoxTracker3D() for agent in agents}\n",
    "trackers[\"central\"] = MeasurementBasedMultiTracker(tracker=BasicBoxTracker3D())\n",
    "\n",
    "# run loop\n",
    "dets = {}\n",
    "tracks = {}\n",
    "for frame in CDM.frames[:500]:\n",
    "    # run perception and individual trackers\n",
    "    found_data = False\n",
    "    fovs = {}\n",
    "    platforms = {}\n",
    "    for agent in agents:\n",
    "        try:\n",
    "            lidar_sensor = \"lidar-0\"\n",
    "            objs = CDM.get_objects(frame=frame, sensor=lidar_sensor, agent=agent)\n",
    "            calib = CDM.get_calibration(frame=frame, sensor=lidar_sensor, agent=agent)\n",
    "            fovs[agent] = Sphere(radius=100)\n",
    "            platforms[agent] = calib.reference\n",
    "        except FileNotFoundError:\n",
    "            continue\n",
    "        found_data = True\n",
    "        dets[agent] = percep(objs)\n",
    "        tracks[agent] = trackers[agent](dets[agent], platform=calib.reference)\n",
    "\n",
    "    # run central tracker on all detections\n",
    "    if found_data:\n",
    "        tracks[\"central\"] = trackers[\"central\"](\n",
    "            detections=dets,\n",
    "            fovs=fovs,\n",
    "            platforms=platforms,\n",
    "        )"
   ]
  },
  {
   "cell_type": "markdown",
   "metadata": {},
   "source": [
    "#### Verify that the union of the two is similar to the central"
   ]
  },
  {
   "cell_type": "code",
   "execution_count": null,
   "metadata": {},
   "outputs": [],
   "source": [
    "from avstack.geometry import GlobalOrigin3D\n",
    "\n",
    "tracks_all = tracks[0] + tracks[1]\n",
    "tracks_all = [\n",
    "    track.change_reference(GlobalOrigin3D, inplace=False) for track in tracks_all\n",
    "]\n",
    "show_boxes_bev(boxes=tracks_all)\n",
    "show_boxes_bev(boxes=tracks[\"central\"])"
   ]
  },
  {
   "cell_type": "code",
   "execution_count": null,
   "metadata": {},
   "outputs": [],
   "source": [
    "show_lidar_bev_with_boxes(pc=pc, boxes=tracks_all)\n",
    "show_lidar_bev_with_boxes(pc=pc, boxes=tracks[\"central\"])"
   ]
  },
  {
   "cell_type": "code",
   "execution_count": null,
   "metadata": {},
   "outputs": [],
   "source": []
  }
 ],
 "metadata": {
  "kernelspec": {
   "display_name": "carla-sandbox-AEPFVd1g-py3.10",
   "language": "python",
   "name": "python3"
  },
  "language_info": {
   "codemirror_mode": {
    "name": "ipython",
    "version": 3
   },
   "file_extension": ".py",
   "mimetype": "text/x-python",
   "name": "python",
   "nbconvert_exporter": "python",
   "pygments_lexer": "ipython3",
   "version": "3.10.12"
  }
 },
 "nbformat": 4,
 "nbformat_minor": 2
}
