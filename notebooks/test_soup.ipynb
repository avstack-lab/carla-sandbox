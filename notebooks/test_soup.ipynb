{
 "cells": [
  {
   "cell_type": "code",
   "execution_count": null,
   "id": "547ff0fd-0e61-4ce7-9b12-201ed29114ae",
   "metadata": {},
   "outputs": [],
   "source": [
    "import os\n",
    "import numpy as np\n",
    "from tqdm import tqdm"
   ]
  },
  {
   "cell_type": "code",
   "execution_count": null,
   "id": "bde03d65-8b21-4ac9-89c4-1f9e683687f8",
   "metadata": {},
   "outputs": [],
   "source": [
    "from avapi.carla import CarlaScenesManager\n",
    "\n",
    "\n",
    "cpath = os.path.join(\"/data/shared/CARLA/multi-agent-intersection/\")\n",
    "CSM = CarlaScenesManager(cpath)\n",
    "idx = 0\n",
    "CDM = CSM.get_scene_dataset_by_index(idx)\n",
    "vid_folder = f\"videos_intersection_{idx}\"\n",
    "\n",
    "print(CSM.scenes)\n",
    "print(f\"{len(CDM)} frames\")"
   ]
  },
  {
   "cell_type": "code",
   "execution_count": null,
   "id": "9287449d-61ff-4028-9bf7-7764236336e9",
   "metadata": {},
   "outputs": [],
   "source": [
    "from datetime import datetime, timedelta\n",
    "from avstack.geometry import GlobalOrigin3D\n",
    "from avstack.modules.perception.object3d import MMDetObjectDetector3D\n",
    "from avstack.modules.tracking.stonesoup import StoneSoupKalmanTracker3DBox\n",
    "\n",
    "t0 = datetime.now()\n",
    "percep = MMDetObjectDetector3D(model=\"pointpillars\", dataset=\"carla-vehicle\", gpu=0)\n",
    "tracker = StoneSoupKalmanTracker3DBox(t0=t0)\n",
    "\n",
    "agent = 0\n",
    "sensor = \"lidar-0\"\n",
    "agent_frames = CDM.get_frames(sensor=sensor, agent=agent)[1:-1]\n",
    "n_frames_max = 2000\n",
    "n_frames = min(n_frames_max, len(agent_frames))\n",
    "dets_ss_all = set()\n",
    "ground_truth = set()\n",
    "ts = []\n",
    "for frame in tqdm(agent_frames[:n_frames]):\n",
    "    pc = CDM.get_lidar(frame=frame, sensor=sensor, agent=agent)\n",
    "    calib = CDM.get_calibration(frame=frame, sensor=sensor, agent=agent)\n",
    "    objs = CDM.get_objects(frame=frame, sensor=sensor, agent=agent)\n",
    "    timestamp = tracker.t0 + timedelta(seconds=pc.timestamp)\n",
    "    ts.append(timestamp)\n",
    "\n",
    "    # perception\n",
    "    dets = percep(pc)\n",
    "    # dets.data = [dets[0]]\n",
    "    dets.apply(\"change_reference\", GlobalOrigin3D, inplace=True)\n",
    "\n",
    "    # tracking\n",
    "    calib.reference = GlobalOrigin3D\n",
    "    tracks = tracker(dets, platform=GlobalOrigin3D, calibration=calib)\n",
    "    dets_ss_all.update(tracker._last_detections)"
   ]
  },
  {
   "cell_type": "code",
   "execution_count": null,
   "id": "2532d9c4-52ca-4bee-9d37-50f41e04367d",
   "metadata": {},
   "outputs": [],
   "source": [
    "from stonesoup.plotter import AnimatedPlotterly\n",
    "\n",
    "plotter = AnimatedPlotterly(ts, tail_length=1)\n",
    "# plotter.plot_ground_truths(groundtruth, mapping=[0, 2])\n",
    "plotter.plot_measurements(\n",
    "    dets_ss_all, mapping=[0, 1], resize=True, convert_measurements=False\n",
    ")\n",
    "plotter.plot_tracks(\n",
    "    tracks.data, mapping=[0, 2], uncertainty=True, resize=True, plot_history=True\n",
    ")\n",
    "plotter.show()"
   ]
  },
  {
   "cell_type": "code",
   "execution_count": null,
   "id": "7458c099-8379-42f1-b7ce-31f3742d77f3",
   "metadata": {},
   "outputs": [],
   "source": []
  }
 ],
 "metadata": {
  "kernelspec": {
   "display_name": "Python 3 (ipykernel)",
   "language": "python",
   "name": "python3"
  },
  "language_info": {
   "codemirror_mode": {
    "name": "ipython",
    "version": 3
   },
   "file_extension": ".py",
   "mimetype": "text/x-python",
   "name": "python",
   "nbconvert_exporter": "python",
   "pygments_lexer": "ipython3",
   "version": "3.10.12"
  }
 },
 "nbformat": 4,
 "nbformat_minor": 5
}
