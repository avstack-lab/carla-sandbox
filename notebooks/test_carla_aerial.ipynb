{
 "cells": [
  {
   "cell_type": "code",
   "execution_count": null,
   "metadata": {},
   "outputs": [],
   "source": [
    "from avapi.carla import CarlaScenesManager\n",
    "\n",
    "data_dir = \"/data/shared/CARLA/multi-agent-aerial/\"\n",
    "CSM = CarlaScenesManager(data_dir=data_dir)\n",
    "CDM = CSM.get_scene_dataset_by_index(0)"
   ]
  },
  {
   "cell_type": "code",
   "execution_count": null,
   "metadata": {},
   "outputs": [],
   "source": [
    "from avstack.maskfilters import box_in_fov\n",
    "\n",
    "\n",
    "# get data for the frame\n",
    "frame_idx = 10\n",
    "agent_idx = 7\n",
    "frame = CDM.get_frames(sensor=\"camera-0\", agent=0)[frame_idx]\n",
    "agent = CDM.get_agents(frame=frame)[agent_idx]\n",
    "agent_ref = agent.as_reference()\n",
    "objects_global = CDM.get_objects_global(frame=frame, ignore_static_agents=True)\n",
    "img = CDM.get_image(frame=frame, sensor=\"camera-0\", agent=agent_idx)\n",
    "depth_img = CDM.get_depth_image(frame=frame, sensor=\"depthcamera-0\", agent=agent_idx)\n",
    "objs_img = CDM.get_objects(frame=frame, sensor=\"camera-0\", agent=agent_idx)"
   ]
  },
  {
   "cell_type": "code",
   "execution_count": null,
   "metadata": {},
   "outputs": [],
   "source": [
    "import numpy as np\n",
    "\n",
    "\n",
    "obj = objs_img[1]\n",
    "box_2d = obj.box.project_to_2d_bbox(\n",
    "    depth_img.calibration, check_reference=True\n",
    ").squeeze(\n",
    "    depth_img.calibration.height,\n",
    "    depth_img.calibration.width,\n",
    "    inplace=False,\n",
    ")\n",
    "depths = depth_img.depths[\n",
    "    int(box_2d.ymin) : int(box_2d.ymax), int(box_2d.xmin) : int(box_2d.xmax)\n",
    "]\n",
    "\n",
    "# assume depth is the last coordinate along the position (img coords)\n",
    "centered_depths = np.reshape(depths, -1) - (abs(obj.position[2]) - obj.box.l / 2)\n",
    "\n",
    "d_close = 3.0\n",
    "frac_viewable = sum(np.abs(centered_depths) < d_close) / len(centered_depths)\n",
    "print(frac_viewable)"
   ]
  },
  {
   "cell_type": "code",
   "execution_count": null,
   "metadata": {},
   "outputs": [],
   "source": [
    "from avapi.visualize.snapshot import show_image_with_boxes\n",
    "\n",
    "# show_image_with_boxes(img=img, boxes=objs_img[1], inline=True)\n",
    "show_image_with_boxes(img=img, boxes=objs_img, inline=True)"
   ]
  },
  {
   "cell_type": "code",
   "execution_count": null,
   "metadata": {},
   "outputs": [],
   "source": []
  }
 ],
 "metadata": {
  "kernelspec": {
   "display_name": "mat-ue-6K6rSsfX-py3.10",
   "language": "python",
   "name": "python3"
  },
  "language_info": {
   "codemirror_mode": {
    "name": "ipython",
    "version": 3
   },
   "file_extension": ".py",
   "mimetype": "text/x-python",
   "name": "python",
   "nbconvert_exporter": "python",
   "pygments_lexer": "ipython3",
   "version": "3.10.12"
  }
 },
 "nbformat": 4,
 "nbformat_minor": 2
}
