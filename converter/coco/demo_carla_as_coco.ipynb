{
 "cells": [
  {
   "cell_type": "markdown",
   "metadata": {},
   "source": [
    "# Verify conversion of carla dataset to COCO format"
   ]
  },
  {
   "cell_type": "code",
   "execution_count": null,
   "metadata": {},
   "outputs": [],
   "source": [
    "import os\n",
    "\n",
    "\n",
    "data_dir = \"/data/shared/CARLA/multi-agent-aerial-utsa/\"\n",
    "\n",
    "frame_idx = 5  # need to index into carla (see below) to get the frame\n",
    "split = \"train\"\n",
    "idx_scene = 0\n",
    "agent = 0\n",
    "camera_sensor = \"camera-0\""
   ]
  },
  {
   "cell_type": "markdown",
   "metadata": {},
   "source": [
    "### Show carla images"
   ]
  },
  {
   "cell_type": "code",
   "execution_count": null,
   "metadata": {},
   "outputs": [],
   "source": [
    "from avapi.carla import CarlaScenesManager\n",
    "\n",
    "\n",
    "CSM = CarlaScenesManager(data_dir=os.path.join(data_dir, \"raw\"))\n",
    "CDM = CSM.get_scene_dataset_by_name(CSM.splits_scenes[split][idx_scene])"
   ]
  },
  {
   "cell_type": "code",
   "execution_count": null,
   "metadata": {},
   "outputs": [],
   "source": [
    "from avapi.visualize.snapshot import show_image_with_boxes\n",
    "\n",
    "\n",
    "# specify viewing\n",
    "frame_idx = 5  # need to index into carla (see below) to get the frame\n",
    "agent = 0\n",
    "camera_sensor = \"camera-0\"\n",
    "\n",
    "# specify which frame\n",
    "frame = CDM.get_frames(sensor=camera_sensor, agent=agent)[frame_idx]\n",
    "timestamp = CDM.get_timestamp(frame=frame, sensor=camera_sensor, agent=agent)\n",
    "\n",
    "# get sensor data\n",
    "img = CDM.get_image(frame=frame, sensor=camera_sensor, agent=agent)\n",
    "objs = CDM.get_objects(frame=frame, sensor=camera_sensor, agent=agent)\n",
    "\n",
    "# get 2D/3D boxes\n",
    "boxes_3d = objs.apply_and_return(\"getattr\", \"box\")\n",
    "boxes_2d = boxes_3d.apply_and_return(\"project_to_2d_bbox\", img.calibration)\n",
    "\n",
    "# show image with 3D boxes\n",
    "show_image_with_boxes(img, boxes=boxes_3d, inline=True)\n",
    "show_image_with_boxes(img, boxes=boxes_2d, inline=True)"
   ]
  },
  {
   "cell_type": "markdown",
   "metadata": {},
   "source": [
    "### Validate a coco conversion"
   ]
  },
  {
   "cell_type": "code",
   "execution_count": null,
   "metadata": {},
   "outputs": [],
   "source": [
    "from my_coco import CocoDataset\n",
    "\n",
    "\n",
    "annotation_path = os.path.join(data_dir, \"coco\", \"annotations\", f\"{split}.json\")\n",
    "image_dir = os.path.join(data_dir, \"coco\", \"images\", split)\n",
    "\n",
    "coco_dataset = CocoDataset(annotation_path, image_dir)\n",
    "coco_dataset.display_categories()"
   ]
  },
  {
   "cell_type": "code",
   "execution_count": null,
   "metadata": {},
   "outputs": [],
   "source": [
    "from IPython.display import HTML\n",
    "\n",
    "\n",
    "# if you want to display the same image as above, do this\n",
    "# NOTE: due to the \"stride\" in conversion to coco, it may not exist\n",
    "# frame = CDM.get_frames(sensor=camera_sensor, agent=agent)[frame_idx]\n",
    "# filename = CDM.get_sensor_data_filepath(frame=frame, sensor=camera_sensor, agent=agent)\n",
    "# image_suffix = CDM.get_sensor_data_filepath(frame=frame, sensor=camera_sensor, agent=agent).split(\"/\")[-1]\n",
    "# image_name = f\"scene-{idx_scene}-agent-{agent}-{camera_sensor}-{image_suffix}\"\n",
    "# image_filename = os.path.join(image_dir, image_name)\n",
    "# image_id = coco_dataset.filename_to_id[image_filename]\n",
    "\n",
    "# otherwise, just pick a random index\n",
    "image_id = 25\n",
    "\n",
    "# display the image inline\n",
    "html = coco_dataset.display_image(image_id, flip_channels=True, use_url=False)\n",
    "HTML(html)"
   ]
  },
  {
   "cell_type": "code",
   "execution_count": null,
   "metadata": {},
   "outputs": [],
   "source": [
    "coco_dataset.segmentations[5]"
   ]
  },
  {
   "cell_type": "code",
   "execution_count": null,
   "metadata": {},
   "outputs": [],
   "source": [
    "coco_dataset.segmentations[10]"
   ]
  },
  {
   "cell_type": "code",
   "execution_count": null,
   "metadata": {},
   "outputs": [],
   "source": []
  }
 ],
 "metadata": {
  "kernelspec": {
   "display_name": "carla-sandbox-AEPFVd1g-py3.10",
   "language": "python",
   "name": "python3"
  },
  "language_info": {
   "codemirror_mode": {
    "name": "ipython",
    "version": 3
   },
   "file_extension": ".py",
   "mimetype": "text/x-python",
   "name": "python",
   "nbconvert_exporter": "python",
   "pygments_lexer": "ipython3",
   "version": "3.10.12"
  }
 },
 "nbformat": 4,
 "nbformat_minor": 2
}
